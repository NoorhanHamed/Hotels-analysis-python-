{
 "cells": [
  {
   "cell_type": "code",
   "execution_count": null,
   "metadata": {},
   "outputs": [],
   "source": []
  },
  {
   "cell_type": "markdown",
   "metadata": {},
   "source": [
    "# Import Libraries"
   ]
  },
  {
   "cell_type": "code",
   "execution_count": 87,
   "metadata": {},
   "outputs": [],
   "source": [
    "import numpy as np \n",
    "import pandas as pd \n",
    "import seaborn as sns\n",
    "from geopy.geocoders import Nominatim\n",
    "import geopandas\n",
    "from datasist.structdata import detect_outliers\n"
   ]
  },
  {
   "cell_type": "markdown",
   "metadata": {},
   "source": [
    "# Read the dataset"
   ]
  },
  {
   "cell_type": "code",
   "execution_count": 3,
   "metadata": {},
   "outputs": [],
   "source": [
    "df=pd.read_excel(\"Hotels.xlsx\")"
   ]
  },
  {
   "cell_type": "code",
   "execution_count": 4,
   "metadata": {},
   "outputs": [
    {
     "data": {
      "text/html": [
       "<div>\n",
       "<style scoped>\n",
       "    .dataframe tbody tr th:only-of-type {\n",
       "        vertical-align: middle;\n",
       "    }\n",
       "\n",
       "    .dataframe tbody tr th {\n",
       "        vertical-align: top;\n",
       "    }\n",
       "\n",
       "    .dataframe thead th {\n",
       "        text-align: right;\n",
       "    }\n",
       "</style>\n",
       "<table border=\"1\" class=\"dataframe\">\n",
       "  <thead>\n",
       "    <tr style=\"text-align: right;\">\n",
       "      <th></th>\n",
       "      <th>Code</th>\n",
       "      <th>Hotel Name</th>\n",
       "      <th>Roomnights</th>\n",
       "      <th>Sale</th>\n",
       "      <th>Cost</th>\n",
       "      <th>Date</th>\n",
       "    </tr>\n",
       "  </thead>\n",
       "  <tbody>\n",
       "    <tr>\n",
       "      <th>0</th>\n",
       "      <td>CODE|87851</td>\n",
       "      <td>Best Western Premier Al Ahsa Grand Hotel &amp; Suites</td>\n",
       "      <td>57</td>\n",
       "      <td>1140</td>\n",
       "      <td>1140</td>\n",
       "      <td>01, 2019</td>\n",
       "    </tr>\n",
       "    <tr>\n",
       "      <th>1</th>\n",
       "      <td>CODE|87816</td>\n",
       "      <td>Best Western Premier Airporthotel Fontane Berlin</td>\n",
       "      <td>1935</td>\n",
       "      <td>50310</td>\n",
       "      <td>38700</td>\n",
       "      <td>08, 2019</td>\n",
       "    </tr>\n",
       "    <tr>\n",
       "      <th>2</th>\n",
       "      <td>CODE|87781</td>\n",
       "      <td>Best Western Premier Agung Resort Ubud</td>\n",
       "      <td>1897</td>\n",
       "      <td>37940</td>\n",
       "      <td>34146</td>\n",
       "      <td>01, 2019</td>\n",
       "    </tr>\n",
       "    <tr>\n",
       "      <th>3</th>\n",
       "      <td>CODE|87746</td>\n",
       "      <td>Best Western Posada Freeman</td>\n",
       "      <td>1294</td>\n",
       "      <td>38820</td>\n",
       "      <td>25880</td>\n",
       "      <td>06, 2019</td>\n",
       "    </tr>\n",
       "    <tr>\n",
       "      <th>4</th>\n",
       "      <td>CODE|87711</td>\n",
       "      <td>Best Western Pony Soldier Inn &amp; Suites</td>\n",
       "      <td>828</td>\n",
       "      <td>22356</td>\n",
       "      <td>13248</td>\n",
       "      <td>12, 2019</td>\n",
       "    </tr>\n",
       "  </tbody>\n",
       "</table>\n",
       "</div>"
      ],
      "text/plain": [
       "         Code                                         Hotel Name  Roomnights  \\\n",
       "0  CODE|87851  Best Western Premier Al Ahsa Grand Hotel & Suites          57   \n",
       "1  CODE|87816   Best Western Premier Airporthotel Fontane Berlin        1935   \n",
       "2  CODE|87781             Best Western Premier Agung Resort Ubud        1897   \n",
       "3  CODE|87746                        Best Western Posada Freeman        1294   \n",
       "4  CODE|87711             Best Western Pony Soldier Inn & Suites         828   \n",
       "\n",
       "    Sale   Cost      Date  \n",
       "0   1140   1140  01, 2019  \n",
       "1  50310  38700  08, 2019  \n",
       "2  37940  34146  01, 2019  \n",
       "3  38820  25880  06, 2019  \n",
       "4  22356  13248  12, 2019  "
      ]
     },
     "execution_count": 4,
     "metadata": {},
     "output_type": "execute_result"
    }
   ],
   "source": [
    "df.head()"
   ]
  },
  {
   "cell_type": "markdown",
   "metadata": {},
   "source": [
    "#  1) PREPROCESSING"
   ]
  },
  {
   "cell_type": "markdown",
   "metadata": {},
   "source": [
    "# Getting info "
   ]
  },
  {
   "cell_type": "code",
   "execution_count": 5,
   "metadata": {},
   "outputs": [
    {
     "name": "stdout",
     "output_type": "stream",
     "text": [
      "<class 'pandas.core.frame.DataFrame'>\n",
      "RangeIndex: 2509 entries, 0 to 2508\n",
      "Data columns (total 6 columns):\n",
      " #   Column      Non-Null Count  Dtype \n",
      "---  ------      --------------  ----- \n",
      " 0   Code        2509 non-null   object\n",
      " 1   Hotel Name  2509 non-null   object\n",
      " 2   Roomnights  2509 non-null   int64 \n",
      " 3   Sale        2509 non-null   int64 \n",
      " 4   Cost        2509 non-null   int64 \n",
      " 5   Date        2509 non-null   object\n",
      "dtypes: int64(3), object(3)\n",
      "memory usage: 117.7+ KB\n"
     ]
    }
   ],
   "source": [
    "df.info()"
   ]
  },
  {
   "cell_type": "markdown",
   "metadata": {},
   "source": [
    "## Date column datatype is object (string) so we want to cast it to datetime dtype to extract features from it"
   ]
  },
  {
   "cell_type": "code",
   "execution_count": 6,
   "metadata": {},
   "outputs": [
    {
     "data": {
      "text/plain": [
       "['01, 2019',\n",
       " '08, 2019',\n",
       " '06, 2019',\n",
       " '12, 2019',\n",
       " '11, 2019',\n",
       " '02, 2019',\n",
       " '09, 2019',\n",
       " '07, 2019',\n",
       " '03, 2019',\n",
       " '04, 2019',\n",
       " '05, 2019',\n",
       " '10, 2019',\n",
       " '09, 2020',\n",
       " '07, 2020',\n",
       " '11, 2020']"
      ]
     },
     "execution_count": 6,
     "metadata": {},
     "output_type": "execute_result"
    }
   ],
   "source": [
    "df[\"Date\"].unique().tolist()"
   ]
  },
  {
   "cell_type": "code",
   "execution_count": 7,
   "metadata": {},
   "outputs": [],
   "source": [
    "df['Date']=pd.to_datetime(df['Date'], format=\"%m, %Y\", errors='ignore')"
   ]
  },
  {
   "cell_type": "code",
   "execution_count": 8,
   "metadata": {},
   "outputs": [
    {
     "name": "stdout",
     "output_type": "stream",
     "text": [
      "<class 'pandas.core.frame.DataFrame'>\n",
      "RangeIndex: 2509 entries, 0 to 2508\n",
      "Data columns (total 6 columns):\n",
      " #   Column      Non-Null Count  Dtype         \n",
      "---  ------      --------------  -----         \n",
      " 0   Code        2509 non-null   object        \n",
      " 1   Hotel Name  2509 non-null   object        \n",
      " 2   Roomnights  2509 non-null   int64         \n",
      " 3   Sale        2509 non-null   int64         \n",
      " 4   Cost        2509 non-null   int64         \n",
      " 5   Date        2509 non-null   datetime64[ns]\n",
      "dtypes: datetime64[ns](1), int64(3), object(2)\n",
      "memory usage: 117.7+ KB\n"
     ]
    }
   ],
   "source": [
    "df.info()"
   ]
  },
  {
   "cell_type": "markdown",
   "metadata": {},
   "source": [
    "\n",
    "### Ok the datatype of Time column is now datetime, so lets extract features."
   ]
  },
  {
   "cell_type": "code",
   "execution_count": 9,
   "metadata": {},
   "outputs": [
    {
     "data": {
      "text/plain": [
       "array(['2019-01-01T00:00:00.000000000', '2019-08-01T00:00:00.000000000',\n",
       "       '2019-06-01T00:00:00.000000000', '2019-12-01T00:00:00.000000000',\n",
       "       '2019-11-01T00:00:00.000000000', '2019-02-01T00:00:00.000000000',\n",
       "       '2019-09-01T00:00:00.000000000', '2019-07-01T00:00:00.000000000',\n",
       "       '2019-03-01T00:00:00.000000000', '2019-04-01T00:00:00.000000000',\n",
       "       '2019-05-01T00:00:00.000000000', '2019-10-01T00:00:00.000000000',\n",
       "       '2020-09-01T00:00:00.000000000', '2020-07-01T00:00:00.000000000',\n",
       "       '2020-11-01T00:00:00.000000000'], dtype='datetime64[ns]')"
      ]
     },
     "execution_count": 9,
     "metadata": {},
     "output_type": "execute_result"
    }
   ],
   "source": [
    "df[\"Date\"].unique()"
   ]
  },
  {
   "cell_type": "markdown",
   "metadata": {},
   "source": [
    "# create column of month"
   ]
  },
  {
   "cell_type": "code",
   "execution_count": 10,
   "metadata": {},
   "outputs": [],
   "source": [
    "df[\"month\"]= df['Date'].dt.month"
   ]
  },
  {
   "cell_type": "code",
   "execution_count": 11,
   "metadata": {},
   "outputs": [
    {
     "data": {
      "text/plain": [
       "0        1\n",
       "1        8\n",
       "2        1\n",
       "3        6\n",
       "4       12\n",
       "        ..\n",
       "2504     1\n",
       "2505     4\n",
       "2506    11\n",
       "2507     9\n",
       "2508     4\n",
       "Name: month, Length: 2509, dtype: int64"
      ]
     },
     "execution_count": 11,
     "metadata": {},
     "output_type": "execute_result"
    }
   ],
   "source": [
    "df[\"month\"]"
   ]
  },
  {
   "cell_type": "markdown",
   "metadata": {},
   "source": [
    "# create column of year"
   ]
  },
  {
   "cell_type": "code",
   "execution_count": 12,
   "metadata": {},
   "outputs": [],
   "source": [
    "df[\"year\"]=df['Date'].dt.year"
   ]
  },
  {
   "cell_type": "code",
   "execution_count": 13,
   "metadata": {},
   "outputs": [
    {
     "data": {
      "text/plain": [
       "0       2019\n",
       "1       2019\n",
       "2       2019\n",
       "3       2019\n",
       "4       2019\n",
       "        ... \n",
       "2504    2019\n",
       "2505    2019\n",
       "2506    2019\n",
       "2507    2019\n",
       "2508    2019\n",
       "Name: year, Length: 2509, dtype: int64"
      ]
     },
     "execution_count": 13,
     "metadata": {},
     "output_type": "execute_result"
    }
   ],
   "source": [
    "df[\"year\"]"
   ]
  },
  {
   "cell_type": "markdown",
   "metadata": {},
   "source": [
    "# check duplicated values"
   ]
  },
  {
   "cell_type": "code",
   "execution_count": 14,
   "metadata": {},
   "outputs": [
    {
     "data": {
      "text/plain": [
       "9"
      ]
     },
     "execution_count": 14,
     "metadata": {},
     "output_type": "execute_result"
    }
   ],
   "source": [
    "df.duplicated().sum()"
   ]
  },
  {
   "cell_type": "code",
   "execution_count": 15,
   "metadata": {},
   "outputs": [
    {
     "data": {
      "text/html": [
       "<div>\n",
       "<style scoped>\n",
       "    .dataframe tbody tr th:only-of-type {\n",
       "        vertical-align: middle;\n",
       "    }\n",
       "\n",
       "    .dataframe tbody tr th {\n",
       "        vertical-align: top;\n",
       "    }\n",
       "\n",
       "    .dataframe thead th {\n",
       "        text-align: right;\n",
       "    }\n",
       "</style>\n",
       "<table border=\"1\" class=\"dataframe\">\n",
       "  <thead>\n",
       "    <tr style=\"text-align: right;\">\n",
       "      <th></th>\n",
       "      <th>Code</th>\n",
       "      <th>Hotel Name</th>\n",
       "      <th>Roomnights</th>\n",
       "      <th>Sale</th>\n",
       "      <th>Cost</th>\n",
       "      <th>Date</th>\n",
       "      <th>month</th>\n",
       "      <th>year</th>\n",
       "    </tr>\n",
       "  </thead>\n",
       "  <tbody>\n",
       "    <tr>\n",
       "      <th>32</th>\n",
       "      <td>CODE|86766</td>\n",
       "      <td>Best Western Plus Suites Hotel</td>\n",
       "      <td>1302</td>\n",
       "      <td>26040</td>\n",
       "      <td>19530</td>\n",
       "      <td>2019-09-01</td>\n",
       "      <td>9</td>\n",
       "      <td>2019</td>\n",
       "    </tr>\n",
       "    <tr>\n",
       "      <th>34</th>\n",
       "      <td>CODE|86731</td>\n",
       "      <td>Best Western Plus Suitcase Paris La Défense</td>\n",
       "      <td>1900</td>\n",
       "      <td>45600</td>\n",
       "      <td>30400</td>\n",
       "      <td>2019-05-01</td>\n",
       "      <td>5</td>\n",
       "      <td>2019</td>\n",
       "    </tr>\n",
       "    <tr>\n",
       "      <th>36</th>\n",
       "      <td>CODE|86696</td>\n",
       "      <td>Best Western Plus Stovall's Inn</td>\n",
       "      <td>1313</td>\n",
       "      <td>38077</td>\n",
       "      <td>23634</td>\n",
       "      <td>2019-02-01</td>\n",
       "      <td>2</td>\n",
       "      <td>2019</td>\n",
       "    </tr>\n",
       "    <tr>\n",
       "      <th>164</th>\n",
       "      <td>CODE|82251</td>\n",
       "      <td>BEST WESTERN PLUS Executive Hotel and Suites</td>\n",
       "      <td>793</td>\n",
       "      <td>18239</td>\n",
       "      <td>15067</td>\n",
       "      <td>2019-02-01</td>\n",
       "      <td>2</td>\n",
       "      <td>2019</td>\n",
       "    </tr>\n",
       "    <tr>\n",
       "      <th>166</th>\n",
       "      <td>CODE|82216</td>\n",
       "      <td>Best Western Plus Executive Court Inn &amp; Confer...</td>\n",
       "      <td>435</td>\n",
       "      <td>9570</td>\n",
       "      <td>8700</td>\n",
       "      <td>2019-05-01</td>\n",
       "      <td>5</td>\n",
       "      <td>2019</td>\n",
       "    </tr>\n",
       "    <tr>\n",
       "      <th>2232</th>\n",
       "      <td>CODE|9556</td>\n",
       "      <td>AC Hotel Paris Porte Maillot</td>\n",
       "      <td>473</td>\n",
       "      <td>12771</td>\n",
       "      <td>8041</td>\n",
       "      <td>2019-07-01</td>\n",
       "      <td>7</td>\n",
       "      <td>2019</td>\n",
       "    </tr>\n",
       "    <tr>\n",
       "      <th>2234</th>\n",
       "      <td>CODE|9521</td>\n",
       "      <td>AC Hotel Palencia</td>\n",
       "      <td>194</td>\n",
       "      <td>5820</td>\n",
       "      <td>2910</td>\n",
       "      <td>2019-10-01</td>\n",
       "      <td>10</td>\n",
       "      <td>2019</td>\n",
       "    </tr>\n",
       "    <tr>\n",
       "      <th>2236</th>\n",
       "      <td>CODE|9486</td>\n",
       "      <td>AC Hotel Palau de Bellavista</td>\n",
       "      <td>759</td>\n",
       "      <td>18975</td>\n",
       "      <td>12903</td>\n",
       "      <td>2019-11-01</td>\n",
       "      <td>11</td>\n",
       "      <td>2019</td>\n",
       "    </tr>\n",
       "    <tr>\n",
       "      <th>2481</th>\n",
       "      <td>CODE|946</td>\n",
       "      <td>Conrad Koh Samui Residences</td>\n",
       "      <td>1100</td>\n",
       "      <td>29700</td>\n",
       "      <td>20900</td>\n",
       "      <td>2019-02-01</td>\n",
       "      <td>2</td>\n",
       "      <td>2019</td>\n",
       "    </tr>\n",
       "  </tbody>\n",
       "</table>\n",
       "</div>"
      ],
      "text/plain": [
       "            Code                                         Hotel Name  \\\n",
       "32    CODE|86766                     Best Western Plus Suites Hotel   \n",
       "34    CODE|86731        Best Western Plus Suitcase Paris La Défense   \n",
       "36    CODE|86696                    Best Western Plus Stovall's Inn   \n",
       "164   CODE|82251       BEST WESTERN PLUS Executive Hotel and Suites   \n",
       "166   CODE|82216  Best Western Plus Executive Court Inn & Confer...   \n",
       "2232   CODE|9556                       AC Hotel Paris Porte Maillot   \n",
       "2234   CODE|9521                                  AC Hotel Palencia   \n",
       "2236   CODE|9486                       AC Hotel Palau de Bellavista   \n",
       "2481    CODE|946                        Conrad Koh Samui Residences   \n",
       "\n",
       "      Roomnights   Sale   Cost       Date  month  year  \n",
       "32          1302  26040  19530 2019-09-01      9  2019  \n",
       "34          1900  45600  30400 2019-05-01      5  2019  \n",
       "36          1313  38077  23634 2019-02-01      2  2019  \n",
       "164          793  18239  15067 2019-02-01      2  2019  \n",
       "166          435   9570   8700 2019-05-01      5  2019  \n",
       "2232         473  12771   8041 2019-07-01      7  2019  \n",
       "2234         194   5820   2910 2019-10-01     10  2019  \n",
       "2236         759  18975  12903 2019-11-01     11  2019  \n",
       "2481        1100  29700  20900 2019-02-01      2  2019  "
      ]
     },
     "execution_count": 15,
     "metadata": {},
     "output_type": "execute_result"
    }
   ],
   "source": [
    "df[df.duplicated()]"
   ]
  },
  {
   "cell_type": "markdown",
   "metadata": {},
   "source": [
    "## drop duplicates"
   ]
  },
  {
   "cell_type": "code",
   "execution_count": 16,
   "metadata": {},
   "outputs": [],
   "source": [
    "df.drop_duplicates(inplace=True)"
   ]
  },
  {
   "cell_type": "code",
   "execution_count": 17,
   "metadata": {},
   "outputs": [
    {
     "name": "stdout",
     "output_type": "stream",
     "text": [
      "<class 'pandas.core.frame.DataFrame'>\n",
      "Int64Index: 2500 entries, 0 to 2508\n",
      "Data columns (total 8 columns):\n",
      " #   Column      Non-Null Count  Dtype         \n",
      "---  ------      --------------  -----         \n",
      " 0   Code        2500 non-null   object        \n",
      " 1   Hotel Name  2500 non-null   object        \n",
      " 2   Roomnights  2500 non-null   int64         \n",
      " 3   Sale        2500 non-null   int64         \n",
      " 4   Cost        2500 non-null   int64         \n",
      " 5   Date        2500 non-null   datetime64[ns]\n",
      " 6   month       2500 non-null   int64         \n",
      " 7   year        2500 non-null   int64         \n",
      "dtypes: datetime64[ns](1), int64(5), object(2)\n",
      "memory usage: 175.8+ KB\n"
     ]
    }
   ],
   "source": [
    "df.info()"
   ]
  },
  {
   "cell_type": "markdown",
   "metadata": {},
   "source": [
    "### reset index after drop"
   ]
  },
  {
   "cell_type": "code",
   "execution_count": 18,
   "metadata": {},
   "outputs": [],
   "source": [
    "df.reset_index(inplace=True,drop=True)"
   ]
  },
  {
   "cell_type": "markdown",
   "metadata": {},
   "source": [
    "# Create column of profit "
   ]
  },
  {
   "cell_type": "markdown",
   "metadata": {},
   "source": [
    "## profit = sale - cost "
   ]
  },
  {
   "cell_type": "code",
   "execution_count": 61,
   "metadata": {},
   "outputs": [],
   "source": [
    "df[\"profit\"]= df[\"Sale\"] - df[\"Cost\"]"
   ]
  },
  {
   "cell_type": "markdown",
   "metadata": {},
   "source": [
    "## - Hotel Name"
   ]
  },
  {
   "cell_type": "code",
   "execution_count": 20,
   "metadata": {},
   "outputs": [
    {
     "data": {
      "text/html": [
       "<div>\n",
       "<style scoped>\n",
       "    .dataframe tbody tr th:only-of-type {\n",
       "        vertical-align: middle;\n",
       "    }\n",
       "\n",
       "    .dataframe tbody tr th {\n",
       "        vertical-align: top;\n",
       "    }\n",
       "\n",
       "    .dataframe thead th {\n",
       "        text-align: right;\n",
       "    }\n",
       "</style>\n",
       "<table border=\"1\" class=\"dataframe\">\n",
       "  <thead>\n",
       "    <tr style=\"text-align: right;\">\n",
       "      <th></th>\n",
       "      <th>Code</th>\n",
       "      <th>Hotel Name</th>\n",
       "    </tr>\n",
       "  </thead>\n",
       "  <tbody>\n",
       "    <tr>\n",
       "      <th>0</th>\n",
       "      <td>CODE|87851</td>\n",
       "      <td>Best Western Premier Al Ahsa Grand Hotel &amp; Suites</td>\n",
       "    </tr>\n",
       "    <tr>\n",
       "      <th>1</th>\n",
       "      <td>CODE|87816</td>\n",
       "      <td>Best Western Premier Airporthotel Fontane Berlin</td>\n",
       "    </tr>\n",
       "    <tr>\n",
       "      <th>2</th>\n",
       "      <td>CODE|87781</td>\n",
       "      <td>Best Western Premier Agung Resort Ubud</td>\n",
       "    </tr>\n",
       "    <tr>\n",
       "      <th>3</th>\n",
       "      <td>CODE|87746</td>\n",
       "      <td>Best Western Posada Freeman</td>\n",
       "    </tr>\n",
       "    <tr>\n",
       "      <th>4</th>\n",
       "      <td>CODE|87711</td>\n",
       "      <td>Best Western Pony Soldier Inn &amp; Suites</td>\n",
       "    </tr>\n",
       "    <tr>\n",
       "      <th>5</th>\n",
       "      <td>CODE|87676</td>\n",
       "      <td>BEST WESTERN PLUS, Doha</td>\n",
       "    </tr>\n",
       "    <tr>\n",
       "      <th>6</th>\n",
       "      <td>CODE|87641</td>\n",
       "      <td>Best Western Plus Zanzibar</td>\n",
       "    </tr>\n",
       "    <tr>\n",
       "      <th>7</th>\n",
       "      <td>CODE|87606</td>\n",
       "      <td>Best Western Plus Winslow Inn</td>\n",
       "    </tr>\n",
       "    <tr>\n",
       "      <th>8</th>\n",
       "      <td>CODE|87571</td>\n",
       "      <td>Best Western Plus Wine Country Inn &amp; Suites</td>\n",
       "    </tr>\n",
       "    <tr>\n",
       "      <th>9</th>\n",
       "      <td>CODE|87536</td>\n",
       "      <td>Best Western Plus Windsor Inn</td>\n",
       "    </tr>\n",
       "    <tr>\n",
       "      <th>10</th>\n",
       "      <td>CODE|87501</td>\n",
       "      <td>Best Western Plus White Bear Country Inn</td>\n",
       "    </tr>\n",
       "    <tr>\n",
       "      <th>11</th>\n",
       "      <td>CODE|87466</td>\n",
       "      <td>Best Western Plus Westlands</td>\n",
       "    </tr>\n",
       "    <tr>\n",
       "      <th>12</th>\n",
       "      <td>CODE|87431</td>\n",
       "      <td>Best Western Plus West Covina Inn</td>\n",
       "    </tr>\n",
       "    <tr>\n",
       "      <th>13</th>\n",
       "      <td>CODE|87396</td>\n",
       "      <td>Best Western Plus Welcome Hotel Frankfurt</td>\n",
       "    </tr>\n",
       "    <tr>\n",
       "      <th>14</th>\n",
       "      <td>CODE|87361</td>\n",
       "      <td>Best Western Plus Waterloo</td>\n",
       "    </tr>\n",
       "    <tr>\n",
       "      <th>15</th>\n",
       "      <td>CODE|87326</td>\n",
       "      <td>Best Western Plus Walkerton Hotel &amp; Conference...</td>\n",
       "    </tr>\n",
       "    <tr>\n",
       "      <th>16</th>\n",
       "      <td>CODE|87291</td>\n",
       "      <td>Best Western Plus Villa Del Lago Inn</td>\n",
       "    </tr>\n",
       "    <tr>\n",
       "      <th>17</th>\n",
       "      <td>CODE|87256</td>\n",
       "      <td>Best Western Plus Vauxhall Hotel</td>\n",
       "    </tr>\n",
       "    <tr>\n",
       "      <th>18</th>\n",
       "      <td>CODE|87221</td>\n",
       "      <td>Best Western Plus Urban Larco Hotel</td>\n",
       "    </tr>\n",
       "    <tr>\n",
       "      <th>19</th>\n",
       "      <td>CODE|87186</td>\n",
       "      <td>Best Western Plus Universal Inn</td>\n",
       "    </tr>\n",
       "    <tr>\n",
       "      <th>20</th>\n",
       "      <td>CODE|87151</td>\n",
       "      <td>Best Western Plus Tucson Int'L Airport Hotel &amp;...</td>\n",
       "    </tr>\n",
       "    <tr>\n",
       "      <th>21</th>\n",
       "      <td>CODE|87116</td>\n",
       "      <td>Best Western Plus Travel Hotel Toronto Airport</td>\n",
       "    </tr>\n",
       "    <tr>\n",
       "      <th>22</th>\n",
       "      <td>CODE|87081</td>\n",
       "      <td>Best Western Plus Toronto North York Hotel &amp; S...</td>\n",
       "    </tr>\n",
       "    <tr>\n",
       "      <th>23</th>\n",
       "      <td>CODE|87046</td>\n",
       "      <td>Best Western Plus Toronto Airport Hotel</td>\n",
       "    </tr>\n",
       "    <tr>\n",
       "      <th>24</th>\n",
       "      <td>CODE|87011</td>\n",
       "      <td>BEST WESTERN PLUS The Tudor-Box Hill</td>\n",
       "    </tr>\n",
       "  </tbody>\n",
       "</table>\n",
       "</div>"
      ],
      "text/plain": [
       "          Code                                         Hotel Name\n",
       "0   CODE|87851  Best Western Premier Al Ahsa Grand Hotel & Suites\n",
       "1   CODE|87816   Best Western Premier Airporthotel Fontane Berlin\n",
       "2   CODE|87781             Best Western Premier Agung Resort Ubud\n",
       "3   CODE|87746                        Best Western Posada Freeman\n",
       "4   CODE|87711             Best Western Pony Soldier Inn & Suites\n",
       "5   CODE|87676                            BEST WESTERN PLUS, Doha\n",
       "6   CODE|87641                         Best Western Plus Zanzibar\n",
       "7   CODE|87606                      Best Western Plus Winslow Inn\n",
       "8   CODE|87571        Best Western Plus Wine Country Inn & Suites\n",
       "9   CODE|87536                      Best Western Plus Windsor Inn\n",
       "10  CODE|87501           Best Western Plus White Bear Country Inn\n",
       "11  CODE|87466                        Best Western Plus Westlands\n",
       "12  CODE|87431                  Best Western Plus West Covina Inn\n",
       "13  CODE|87396          Best Western Plus Welcome Hotel Frankfurt\n",
       "14  CODE|87361                         Best Western Plus Waterloo\n",
       "15  CODE|87326  Best Western Plus Walkerton Hotel & Conference...\n",
       "16  CODE|87291               Best Western Plus Villa Del Lago Inn\n",
       "17  CODE|87256                   Best Western Plus Vauxhall Hotel\n",
       "18  CODE|87221                Best Western Plus Urban Larco Hotel\n",
       "19  CODE|87186                    Best Western Plus Universal Inn\n",
       "20  CODE|87151  Best Western Plus Tucson Int'L Airport Hotel &...\n",
       "21  CODE|87116     Best Western Plus Travel Hotel Toronto Airport\n",
       "22  CODE|87081  Best Western Plus Toronto North York Hotel & S...\n",
       "23  CODE|87046            Best Western Plus Toronto Airport Hotel\n",
       "24  CODE|87011               BEST WESTERN PLUS The Tudor-Box Hill"
      ]
     },
     "execution_count": 20,
     "metadata": {},
     "output_type": "execute_result"
    }
   ],
   "source": [
    "df[['Code', 'Hotel Name']].head(25)"
   ]
  },
  {
   "cell_type": "markdown",
   "metadata": {},
   "source": [
    "# - Extracting Country name from the hotel name"
   ]
  },
  {
   "cell_type": "markdown",
   "metadata": {},
   "source": [
    "## 1) By using geopy "
   ]
  },
  {
   "cell_type": "code",
   "execution_count": 21,
   "metadata": {},
   "outputs": [],
   "source": [
    "geolocator = Nominatim(user_agent=\"Hotels Data analysis\")"
   ]
  },
  {
   "cell_type": "code",
   "execution_count": 22,
   "metadata": {},
   "outputs": [],
   "source": [
    "\n",
    "\n",
    "def getLocationByGeo(hotelname):\n",
    "    #geolocator = Nominatim(user_agent='my-application')\n",
    "    try:\n",
    "        location = geolocator.geocode(hotelname)\n",
    "        address=location.raw[\"display_name\"].split(',')[-1]\n",
    "        return address\n",
    "    except:\n",
    "        return \"missing\" \n",
    "       "
   ]
  },
  {
   "cell_type": "code",
   "execution_count": 23,
   "metadata": {},
   "outputs": [],
   "source": [
    "df['geocode']=df[\"Hotel Name\"].apply(getLocationByGeo)"
   ]
  },
  {
   "cell_type": "code",
   "execution_count": 24,
   "metadata": {},
   "outputs": [
    {
     "data": {
      "text/plain": [
       "missing           1476\n",
       " United States     183\n",
       " Deutschland        61\n",
       " Italia             54\n",
       " Türkiye            53\n",
       "                  ... \n",
       " Malta               1\n",
       " Bénin               1\n",
       " Chile               1\n",
       " Costa Rica          1\n",
       " لبنان               1\n",
       "Name: geocode, Length: 96, dtype: int64"
      ]
     },
     "execution_count": 24,
     "metadata": {},
     "output_type": "execute_result"
    }
   ],
   "source": [
    "df[\"geocode\"].value_counts()"
   ]
  },
  {
   "cell_type": "code",
   "execution_count": 25,
   "metadata": {},
   "outputs": [
    {
     "data": {
      "text/plain": [
       "0       Best Western Premier Al Ahsa Grand Hotel & Suites\n",
       "2                  Best Western Premier Agung Resort Ubud\n",
       "5                                 BEST WESTERN PLUS, Doha\n",
       "6                              Best Western Plus Zanzibar\n",
       "10               Best Western Plus White Bear Country Inn\n",
       "                              ...                        \n",
       "2495                                  Al Hail Waves Hotel\n",
       "2496                Al Eairy Furnished Apartments Tabuk 6\n",
       "2497                                     Al Bandar Rotana\n",
       "2498             Aiden by Best Western @ Scottsdale North\n",
       "2499                  Adagio Aparthotel Jeddah Malik Road\n",
       "Name: Hotel Name, Length: 1476, dtype: object"
      ]
     },
     "execution_count": 25,
     "metadata": {},
     "output_type": "execute_result"
    }
   ],
   "source": [
    "df[df['geocode']==\"missing\"][\"Hotel Name\"]"
   ]
  },
  {
   "cell_type": "markdown",
   "metadata": {},
   "source": [
    "## 2) By useing  geopandas to get country name in which geopy failed to obtain "
   ]
  },
  {
   "cell_type": "code",
   "execution_count": 35,
   "metadata": {},
   "outputs": [],
   "source": [
    "def return_country (row):\n",
    "    try:\n",
    "        x=geopandas.tools.geocode(row)[\"address\"].tolist()[0].split(\", \")[-1]\n",
    "        return x\n",
    "    except:\n",
    "        return \"missing\"\n",
    "        "
   ]
  },
  {
   "cell_type": "code",
   "execution_count": 36,
   "metadata": {},
   "outputs": [],
   "source": [
    "df[\"country\"]=df[\"Hotel Name\"].apply(return_country)"
   ]
  },
  {
   "cell_type": "code",
   "execution_count": 37,
   "metadata": {},
   "outputs": [
    {
     "data": {
      "text/plain": [
       "United States     426\n",
       "missing           335\n",
       "France            156\n",
       "España            155\n",
       "United Kingdom    112\n",
       "                 ... \n",
       "Jamaica             1\n",
       "Việt Nam            1\n",
       "Бългaрия            1\n",
       "Sénégal             1\n",
       "Ecuador             1\n",
       "Name: country, Length: 134, dtype: int64"
      ]
     },
     "execution_count": 37,
     "metadata": {},
     "output_type": "execute_result"
    }
   ],
   "source": [
    "df['country'].value_counts().sort_values(ascending=False)"
   ]
  },
  {
   "cell_type": "code",
   "execution_count": 38,
   "metadata": {},
   "outputs": [
    {
     "data": {
      "text/html": [
       "<div>\n",
       "<style scoped>\n",
       "    .dataframe tbody tr th:only-of-type {\n",
       "        vertical-align: middle;\n",
       "    }\n",
       "\n",
       "    .dataframe tbody tr th {\n",
       "        vertical-align: top;\n",
       "    }\n",
       "\n",
       "    .dataframe thead th {\n",
       "        text-align: right;\n",
       "    }\n",
       "</style>\n",
       "<table border=\"1\" class=\"dataframe\">\n",
       "  <thead>\n",
       "    <tr style=\"text-align: right;\">\n",
       "      <th></th>\n",
       "      <th>Code</th>\n",
       "      <th>Hotel Name</th>\n",
       "      <th>Roomnights</th>\n",
       "      <th>Sale</th>\n",
       "      <th>Cost</th>\n",
       "      <th>Date</th>\n",
       "      <th>month</th>\n",
       "      <th>year</th>\n",
       "      <th>geocode</th>\n",
       "      <th>country</th>\n",
       "    </tr>\n",
       "  </thead>\n",
       "  <tbody>\n",
       "    <tr>\n",
       "      <th>0</th>\n",
       "      <td>CODE|87851</td>\n",
       "      <td>Best Western Premier Al Ahsa Grand Hotel &amp; Suites</td>\n",
       "      <td>57</td>\n",
       "      <td>1140</td>\n",
       "      <td>1140</td>\n",
       "      <td>2019-01-01</td>\n",
       "      <td>1</td>\n",
       "      <td>2019</td>\n",
       "      <td>missing</td>\n",
       "      <td>missing</td>\n",
       "    </tr>\n",
       "    <tr>\n",
       "      <th>44</th>\n",
       "      <td>CODE|86311</td>\n",
       "      <td>Best Western PLUS Roswell/Alpharetta</td>\n",
       "      <td>791</td>\n",
       "      <td>22148</td>\n",
       "      <td>12656</td>\n",
       "      <td>2019-07-01</td>\n",
       "      <td>7</td>\n",
       "      <td>2019</td>\n",
       "      <td>missing</td>\n",
       "      <td>missing</td>\n",
       "    </tr>\n",
       "    <tr>\n",
       "      <th>54</th>\n",
       "      <td>CODE|85961</td>\n",
       "      <td>Best Western Plus Peterborough Orton Hall Hote...</td>\n",
       "      <td>99</td>\n",
       "      <td>2178</td>\n",
       "      <td>1782</td>\n",
       "      <td>2019-10-01</td>\n",
       "      <td>10</td>\n",
       "      <td>2019</td>\n",
       "      <td>missing</td>\n",
       "      <td>missing</td>\n",
       "    </tr>\n",
       "    <tr>\n",
       "      <th>67</th>\n",
       "      <td>CODE|85506</td>\n",
       "      <td>Best Western Plus Ottawa Kanata Hotel &amp; Confer...</td>\n",
       "      <td>167</td>\n",
       "      <td>4342</td>\n",
       "      <td>3173</td>\n",
       "      <td>2019-03-01</td>\n",
       "      <td>3</td>\n",
       "      <td>2019</td>\n",
       "      <td>missing</td>\n",
       "      <td>missing</td>\n",
       "    </tr>\n",
       "    <tr>\n",
       "      <th>107</th>\n",
       "      <td>CODE|84106</td>\n",
       "      <td>Best Western Plus Kissimmee-Lake Buena Vista S...</td>\n",
       "      <td>849</td>\n",
       "      <td>22074</td>\n",
       "      <td>12735</td>\n",
       "      <td>2019-04-01</td>\n",
       "      <td>4</td>\n",
       "      <td>2019</td>\n",
       "      <td>missing</td>\n",
       "      <td>missing</td>\n",
       "    </tr>\n",
       "    <tr>\n",
       "      <th>...</th>\n",
       "      <td>...</td>\n",
       "      <td>...</td>\n",
       "      <td>...</td>\n",
       "      <td>...</td>\n",
       "      <td>...</td>\n",
       "      <td>...</td>\n",
       "      <td>...</td>\n",
       "      <td>...</td>\n",
       "      <td>...</td>\n",
       "      <td>...</td>\n",
       "    </tr>\n",
       "    <tr>\n",
       "      <th>2479</th>\n",
       "      <td>CODE|701</td>\n",
       "      <td>Bournemouth Carlton Hotel, BW Signature Colle...</td>\n",
       "      <td>1095</td>\n",
       "      <td>27375</td>\n",
       "      <td>16425</td>\n",
       "      <td>2019-03-01</td>\n",
       "      <td>3</td>\n",
       "      <td>2019</td>\n",
       "      <td>missing</td>\n",
       "      <td>missing</td>\n",
       "    </tr>\n",
       "    <tr>\n",
       "      <th>2486</th>\n",
       "      <td>CODE|69581</td>\n",
       "      <td>Best Western Orlando Theme Parks</td>\n",
       "      <td>1369</td>\n",
       "      <td>35594</td>\n",
       "      <td>20535</td>\n",
       "      <td>2019-03-01</td>\n",
       "      <td>3</td>\n",
       "      <td>2019</td>\n",
       "      <td>missing</td>\n",
       "      <td>missing</td>\n",
       "    </tr>\n",
       "    <tr>\n",
       "      <th>2489</th>\n",
       "      <td>CODE|69476</td>\n",
       "      <td>Aristocrat Hotel, BW Signature Collection</td>\n",
       "      <td>1541</td>\n",
       "      <td>32361</td>\n",
       "      <td>24656</td>\n",
       "      <td>2019-05-01</td>\n",
       "      <td>5</td>\n",
       "      <td>2019</td>\n",
       "      <td>missing</td>\n",
       "      <td>missing</td>\n",
       "    </tr>\n",
       "    <tr>\n",
       "      <th>2496</th>\n",
       "      <td>CODE|106</td>\n",
       "      <td>Al Eairy Furnished Apartments Tabuk 6</td>\n",
       "      <td>1097</td>\n",
       "      <td>26328</td>\n",
       "      <td>21940</td>\n",
       "      <td>2019-04-01</td>\n",
       "      <td>4</td>\n",
       "      <td>2019</td>\n",
       "      <td>missing</td>\n",
       "      <td>missing</td>\n",
       "    </tr>\n",
       "    <tr>\n",
       "      <th>2499</th>\n",
       "      <td>CODE|1</td>\n",
       "      <td>Adagio Aparthotel Jeddah Malik Road</td>\n",
       "      <td>1033</td>\n",
       "      <td>24792</td>\n",
       "      <td>17561</td>\n",
       "      <td>2019-04-01</td>\n",
       "      <td>4</td>\n",
       "      <td>2019</td>\n",
       "      <td>missing</td>\n",
       "      <td>missing</td>\n",
       "    </tr>\n",
       "  </tbody>\n",
       "</table>\n",
       "<p>284 rows × 10 columns</p>\n",
       "</div>"
      ],
      "text/plain": [
       "            Code                                         Hotel Name  \\\n",
       "0     CODE|87851  Best Western Premier Al Ahsa Grand Hotel & Suites   \n",
       "44    CODE|86311               Best Western PLUS Roswell/Alpharetta   \n",
       "54    CODE|85961  Best Western Plus Peterborough Orton Hall Hote...   \n",
       "67    CODE|85506  Best Western Plus Ottawa Kanata Hotel & Confer...   \n",
       "107   CODE|84106  Best Western Plus Kissimmee-Lake Buena Vista S...   \n",
       "...          ...                                                ...   \n",
       "2479    CODE|701   Bournemouth Carlton Hotel, BW Signature Colle...   \n",
       "2486  CODE|69581                   Best Western Orlando Theme Parks   \n",
       "2489  CODE|69476          Aristocrat Hotel, BW Signature Collection   \n",
       "2496    CODE|106              Al Eairy Furnished Apartments Tabuk 6   \n",
       "2499      CODE|1                Adagio Aparthotel Jeddah Malik Road   \n",
       "\n",
       "      Roomnights   Sale   Cost       Date  month  year  geocode  country  \n",
       "0             57   1140   1140 2019-01-01      1  2019  missing  missing  \n",
       "44           791  22148  12656 2019-07-01      7  2019  missing  missing  \n",
       "54            99   2178   1782 2019-10-01     10  2019  missing  missing  \n",
       "67           167   4342   3173 2019-03-01      3  2019  missing  missing  \n",
       "107          849  22074  12735 2019-04-01      4  2019  missing  missing  \n",
       "...          ...    ...    ...        ...    ...   ...      ...      ...  \n",
       "2479        1095  27375  16425 2019-03-01      3  2019  missing  missing  \n",
       "2486        1369  35594  20535 2019-03-01      3  2019  missing  missing  \n",
       "2489        1541  32361  24656 2019-05-01      5  2019  missing  missing  \n",
       "2496        1097  26328  21940 2019-04-01      4  2019  missing  missing  \n",
       "2499        1033  24792  17561 2019-04-01      4  2019  missing  missing  \n",
       "\n",
       "[284 rows x 10 columns]"
      ]
     },
     "execution_count": 38,
     "metadata": {},
     "output_type": "execute_result"
    }
   ],
   "source": [
    "df[(df['geocode']==\"missing\")& (df['country']==\"missing\")]"
   ]
  },
  {
   "cell_type": "code",
   "execution_count": 70,
   "metadata": {},
   "outputs": [
    {
     "data": {
      "text/plain": [
       "['missing',\n",
       " 'United States',\n",
       " 'México',\n",
       " 'قطر',\n",
       " 'United Kingdom',\n",
       " 'France',\n",
       " 'Sverige',\n",
       " 'Canada',\n",
       " 'الإمارات العربية المتحدة',\n",
       " 'Հայաստան',\n",
       " 'Norge',\n",
       " 'Italia',\n",
       " 'Bangladesh',\n",
       " 'România',\n",
       " 'Philippines',\n",
       " 'Türkiye',\n",
       " 'Indonesia',\n",
       " 'ประเทศไทย',\n",
       " 'Österreich',\n",
       " 'Danmark',\n",
       " 'Deutschland',\n",
       " 'Australia',\n",
       " 'Северна Македонија',\n",
       " 'Sierra Leone',\n",
       " 'South Africa',\n",
       " 'Nicaragua',\n",
       " '中国',\n",
       " 'Tanzania',\n",
       " 'Jersey',\n",
       " 'Ghana',\n",
       " 'Suomi',\n",
       " 'Brasil',\n",
       " 'Slovensko',\n",
       " 'Colombia',\n",
       " 'España',\n",
       " 'Kenya',\n",
       " 'ශ්\\u200dරී ලංකාව இலங்கை',\n",
       " 'Nederland',\n",
       " 'پاکستان',\n",
       " 'Malaysia',\n",
       " 'Azərbaycan',\n",
       " 'Sesel',\n",
       " 'السعودية',\n",
       " 'Hrvatska',\n",
       " 'Latvija',\n",
       " 'Guinée',\n",
       " 'ދިވެހިރާއްޖެ',\n",
       " 'India',\n",
       " 'Cuba',\n",
       " 'Србија',\n",
       " 'Malta',\n",
       " 'Κύπρος - Kıbrıs',\n",
       " 'Turks and Caicos Islands',\n",
       " 'عمان',\n",
       " 'ישראל',\n",
       " 'Shqipëria',\n",
       " 'Algérie / ⵍⵣⵣⴰⵢⴻⵔ / الجزائر',\n",
       " 'Chile',\n",
       " 'República Dominicana',\n",
       " 'Ελλάς',\n",
       " 'Magyarország',\n",
       " 'The Bahamas',\n",
       " 'Cameroun',\n",
       " 'Djibouti جيبوتي',\n",
       " 'Schweiz/Suisse/Svizzera/Svizra',\n",
       " 'مصر',\n",
       " 'Portugal',\n",
       " 'اليمن',\n",
       " 'Venezuela',\n",
       " 'Guatemala',\n",
       " 'Costa Rica',\n",
       " 'België / Belgique / Belgien',\n",
       " 'Éire / Ireland',\n",
       " 'Nigeria',\n",
       " 'Isle of Man',\n",
       " 'Maroc ⵍⵎⵖⵔⵉⴱ المغرب',\n",
       " 'Nepal',\n",
       " 'საქართველო',\n",
       " 'Polska',\n",
       " 'البحرين',\n",
       " 'Vanuatu',\n",
       " '대한민국',\n",
       " 'العراق',\n",
       " 'Argentina',\n",
       " 'Sénégal',\n",
       " 'Việt Nam',\n",
       " 'Guinea Ecuatorial',\n",
       " 'Ködörösêse tî Bêafrîka - République Centrafricaine',\n",
       " 'الأردن',\n",
       " 'Paraguay',\n",
       " 'Perú',\n",
       " '日本',\n",
       " 'Uganda',\n",
       " 'Oʻzbekiston',\n",
       " 'Zambia',\n",
       " 'Moçambique',\n",
       " 'Lesotho',\n",
       " 'Panamá',\n",
       " 'ኢትዮጵያ',\n",
       " 'Україна',\n",
       " 'Bénin',\n",
       " 'မြန်မာ',\n",
       " 'Singapore',\n",
       " 'New Zealand / Aotearoa',\n",
       " 'Uruguay',\n",
       " 'Ayiti',\n",
       " 'Andorra',\n",
       " 'Россия',\n",
       " 'Бългaрия',\n",
       " 'Bolivia',\n",
       " 'Mauritius',\n",
       " 'Malawi',\n",
       " 'ایران',\n",
       " 'Côte d’Ivoire',\n",
       " 'تونس',\n",
       " 'السودان',\n",
       " 'لبنان',\n",
       " 'سوريا',\n",
       " 'Guyana',\n",
       " 'الكويت',\n",
       " 'Mali',\n",
       " 'Papua Niugini',\n",
       " \"Kūki 'Āirani\",\n",
       " 'Namibia',\n",
       " 'Zimbabwe',\n",
       " 'Viti',\n",
       " 'Congo',\n",
       " 'འབྲུག་ཡུལ་',\n",
       " 'Jamaica',\n",
       " 'Tchad تشاد',\n",
       " 'Moldova',\n",
       " 'Česko',\n",
       " 'Беларусь',\n",
       " 'Ecuador']"
      ]
     },
     "execution_count": 70,
     "metadata": {},
     "output_type": "execute_result"
    }
   ],
   "source": [
    "df['country'].unique().tolist()"
   ]
  },
  {
   "cell_type": "markdown",
   "metadata": {},
   "source": [
    "## as it show that geopandas reduce missing country from 1476 to 335"
   ]
  },
  {
   "cell_type": "code",
   "execution_count": 39,
   "metadata": {},
   "outputs": [
    {
     "data": {
      "text/html": [
       "<div>\n",
       "<style scoped>\n",
       "    .dataframe tbody tr th:only-of-type {\n",
       "        vertical-align: middle;\n",
       "    }\n",
       "\n",
       "    .dataframe tbody tr th {\n",
       "        vertical-align: top;\n",
       "    }\n",
       "\n",
       "    .dataframe thead th {\n",
       "        text-align: right;\n",
       "    }\n",
       "</style>\n",
       "<table border=\"1\" class=\"dataframe\">\n",
       "  <thead>\n",
       "    <tr style=\"text-align: right;\">\n",
       "      <th></th>\n",
       "      <th>Code</th>\n",
       "      <th>Hotel Name</th>\n",
       "      <th>Roomnights</th>\n",
       "      <th>Sale</th>\n",
       "      <th>Cost</th>\n",
       "      <th>Date</th>\n",
       "      <th>month</th>\n",
       "      <th>year</th>\n",
       "      <th>geocode</th>\n",
       "      <th>country</th>\n",
       "    </tr>\n",
       "  </thead>\n",
       "  <tbody>\n",
       "    <tr>\n",
       "      <th>0</th>\n",
       "      <td>CODE|87851</td>\n",
       "      <td>Best Western Premier Al Ahsa Grand Hotel &amp; Suites</td>\n",
       "      <td>57</td>\n",
       "      <td>1140</td>\n",
       "      <td>1140</td>\n",
       "      <td>2019-01-01</td>\n",
       "      <td>1</td>\n",
       "      <td>2019</td>\n",
       "      <td>missing</td>\n",
       "      <td>missing</td>\n",
       "    </tr>\n",
       "    <tr>\n",
       "      <th>1</th>\n",
       "      <td>CODE|87816</td>\n",
       "      <td>Best Western Premier Airporthotel Fontane Berlin</td>\n",
       "      <td>1935</td>\n",
       "      <td>50310</td>\n",
       "      <td>38700</td>\n",
       "      <td>2019-08-01</td>\n",
       "      <td>8</td>\n",
       "      <td>2019</td>\n",
       "      <td>Deutschland</td>\n",
       "      <td>missing</td>\n",
       "    </tr>\n",
       "    <tr>\n",
       "      <th>2</th>\n",
       "      <td>CODE|87781</td>\n",
       "      <td>Best Western Premier Agung Resort Ubud</td>\n",
       "      <td>1897</td>\n",
       "      <td>37940</td>\n",
       "      <td>34146</td>\n",
       "      <td>2019-01-01</td>\n",
       "      <td>1</td>\n",
       "      <td>2019</td>\n",
       "      <td>missing</td>\n",
       "      <td>United States</td>\n",
       "    </tr>\n",
       "    <tr>\n",
       "      <th>3</th>\n",
       "      <td>CODE|87746</td>\n",
       "      <td>Best Western Posada Freeman</td>\n",
       "      <td>1294</td>\n",
       "      <td>38820</td>\n",
       "      <td>25880</td>\n",
       "      <td>2019-06-01</td>\n",
       "      <td>6</td>\n",
       "      <td>2019</td>\n",
       "      <td>México</td>\n",
       "      <td>México</td>\n",
       "    </tr>\n",
       "    <tr>\n",
       "      <th>4</th>\n",
       "      <td>CODE|87711</td>\n",
       "      <td>Best Western Pony Soldier Inn &amp; Suites</td>\n",
       "      <td>828</td>\n",
       "      <td>22356</td>\n",
       "      <td>13248</td>\n",
       "      <td>2019-12-01</td>\n",
       "      <td>12</td>\n",
       "      <td>2019</td>\n",
       "      <td>United States</td>\n",
       "      <td>United States</td>\n",
       "    </tr>\n",
       "  </tbody>\n",
       "</table>\n",
       "</div>"
      ],
      "text/plain": [
       "         Code                                         Hotel Name  Roomnights  \\\n",
       "0  CODE|87851  Best Western Premier Al Ahsa Grand Hotel & Suites          57   \n",
       "1  CODE|87816   Best Western Premier Airporthotel Fontane Berlin        1935   \n",
       "2  CODE|87781             Best Western Premier Agung Resort Ubud        1897   \n",
       "3  CODE|87746                        Best Western Posada Freeman        1294   \n",
       "4  CODE|87711             Best Western Pony Soldier Inn & Suites         828   \n",
       "\n",
       "    Sale   Cost       Date  month  year         geocode        country  \n",
       "0   1140   1140 2019-01-01      1  2019         missing        missing  \n",
       "1  50310  38700 2019-08-01      8  2019     Deutschland        missing  \n",
       "2  37940  34146 2019-01-01      1  2019         missing  United States  \n",
       "3  38820  25880 2019-06-01      6  2019          México         México  \n",
       "4  22356  13248 2019-12-01     12  2019   United States  United States  "
      ]
     },
     "execution_count": 39,
     "metadata": {},
     "output_type": "execute_result"
    }
   ],
   "source": [
    "df.head()"
   ]
  },
  {
   "cell_type": "code",
   "execution_count": 46,
   "metadata": {},
   "outputs": [],
   "source": [
    "def get_country (data):\n",
    "    if (data[\"geocode\"]==\"missing\") and (data[\"country\"]==\"missing\"):\n",
    "        return \"missing\"\n",
    "    elif (data[\"geocode\"]==\"missing\") and (data[\"country\"]!=\"missing\"):\n",
    "        return data[\"country\"]\n",
    "    elif (data[\"geocode\"]!=\"missing\") and (data[\"country\"]==\"missing\"):\n",
    "        return data[\"geocode\"]\n",
    "    else :\n",
    "        return data[\"country\"]"
   ]
  },
  {
   "cell_type": "code",
   "execution_count": 55,
   "metadata": {},
   "outputs": [],
   "source": [
    "df[\"country_name\"]=df.apply(get_country, axis=1)"
   ]
  },
  {
   "cell_type": "code",
   "execution_count": 56,
   "metadata": {},
   "outputs": [
    {
     "data": {
      "text/plain": [
       "United States               426\n",
       "missing                     284\n",
       "France                      156\n",
       "España                      155\n",
       "United Kingdom              112\n",
       "                           ... \n",
       " Indonesia                    1\n",
       "Ayiti                         1\n",
       "Shqipëria                     1\n",
       "Turks and Caicos Islands      1\n",
       "Ecuador                       1\n",
       "Name: country_name, Length: 152, dtype: int64"
      ]
     },
     "execution_count": 56,
     "metadata": {},
     "output_type": "execute_result"
    }
   ],
   "source": [
    "df[\"country_name\"].value_counts()"
   ]
  },
  {
   "cell_type": "code",
   "execution_count": 57,
   "metadata": {},
   "outputs": [
    {
     "data": {
      "text/plain": [
       "['missing',\n",
       " ' Deutschland',\n",
       " 'United States',\n",
       " 'México',\n",
       " 'قطر',\n",
       " 'United Kingdom',\n",
       " 'France',\n",
       " 'Sverige',\n",
       " ' Nederland',\n",
       " 'Canada',\n",
       " 'الإمارات العربية المتحدة',\n",
       " 'Հայաստան',\n",
       " 'Norge',\n",
       " 'Italia',\n",
       " ' United States',\n",
       " 'Bangladesh',\n",
       " 'România',\n",
       " 'Philippines',\n",
       " 'Türkiye',\n",
       " 'Indonesia',\n",
       " 'ประเทศไทย',\n",
       " 'Österreich',\n",
       " 'Danmark',\n",
       " 'Deutschland',\n",
       " 'Australia',\n",
       " 'Северна Македонија',\n",
       " ' France',\n",
       " ' Philippines',\n",
       " ' United Kingdom',\n",
       " 'Sierra Leone',\n",
       " 'South Africa',\n",
       " ' Italia',\n",
       " 'Nicaragua',\n",
       " '中国',\n",
       " 'Tanzania',\n",
       " 'Jersey',\n",
       " 'Ghana',\n",
       " 'Suomi',\n",
       " 'Brasil',\n",
       " 'Slovensko',\n",
       " 'Colombia',\n",
       " 'España',\n",
       " 'Kenya',\n",
       " 'ශ්\\u200dරී ලංකාව இலங்கை',\n",
       " 'Nederland',\n",
       " 'پاکستان',\n",
       " 'Malaysia',\n",
       " ' Portugal',\n",
       " 'Azərbaycan',\n",
       " 'Sesel',\n",
       " 'السعودية',\n",
       " 'Hrvatska',\n",
       " 'Latvija',\n",
       " 'Guinée',\n",
       " 'ދިވެހިރާއްޖެ',\n",
       " 'India',\n",
       " 'Cuba',\n",
       " 'Србија',\n",
       " 'Malta',\n",
       " 'Κύπρος - Kıbrıs',\n",
       " 'Turks and Caicos Islands',\n",
       " 'عمان',\n",
       " 'ישראל',\n",
       " 'Shqipëria',\n",
       " 'Algérie / ⵍⵣⵣⴰⵢⴻⵔ / الجزائر',\n",
       " 'Chile',\n",
       " 'República Dominicana',\n",
       " 'Ελλάς',\n",
       " 'Magyarország',\n",
       " 'The Bahamas',\n",
       " 'Cameroun',\n",
       " 'Djibouti جيبوتي',\n",
       " 'Schweiz/Suisse/Svizzera/Svizra',\n",
       " 'مصر',\n",
       " 'Portugal',\n",
       " 'اليمن',\n",
       " 'Venezuela',\n",
       " 'Guatemala',\n",
       " 'Costa Rica',\n",
       " 'België / Belgique / Belgien',\n",
       " 'Éire / Ireland',\n",
       " ' ประเทศไทย',\n",
       " 'Nigeria',\n",
       " 'Isle of Man',\n",
       " 'Maroc ⵍⵎⵖⵔⵉⴱ المغرب',\n",
       " 'Nepal',\n",
       " 'საქართველო',\n",
       " 'Polska',\n",
       " 'البحرين',\n",
       " 'Vanuatu',\n",
       " '대한민국',\n",
       " 'العراق',\n",
       " 'Argentina',\n",
       " 'Sénégal',\n",
       " 'Việt Nam',\n",
       " 'Guinea Ecuatorial',\n",
       " ' Россия',\n",
       " 'Ködörösêse tî Bêafrîka - République Centrafricaine',\n",
       " ' España',\n",
       " 'الأردن',\n",
       " 'Paraguay',\n",
       " 'Perú',\n",
       " ' ދިވެހިރާއްޖެ',\n",
       " '日本',\n",
       " 'Uganda',\n",
       " 'Oʻzbekiston',\n",
       " 'Zambia',\n",
       " ' Malaysia',\n",
       " 'Moçambique',\n",
       " 'Lesotho',\n",
       " 'Panamá',\n",
       " ' Österreich',\n",
       " 'ኢትዮጵያ',\n",
       " 'Україна',\n",
       " 'Bénin',\n",
       " 'မြန်မာ',\n",
       " 'Singapore',\n",
       " 'New Zealand / Aotearoa',\n",
       " ' Indonesia',\n",
       " 'Uruguay',\n",
       " 'Ayiti',\n",
       " 'Andorra',\n",
       " ' Türkiye',\n",
       " 'Россия',\n",
       " 'Бългaрия',\n",
       " 'Bolivia',\n",
       " ' Magyarország',\n",
       " 'Mauritius',\n",
       " 'Malawi',\n",
       " ' Schweiz/Suisse/Svizzera/Svizra',\n",
       " 'ایران',\n",
       " 'Côte d’Ivoire',\n",
       " 'تونس',\n",
       " 'السودان',\n",
       " 'لبنان',\n",
       " 'سوريا',\n",
       " 'Guyana',\n",
       " 'الكويت',\n",
       " 'Mali',\n",
       " 'Papua Niugini',\n",
       " \"Kūki 'Āirani\",\n",
       " 'Namibia',\n",
       " 'Zimbabwe',\n",
       " 'Viti',\n",
       " 'Congo',\n",
       " 'འབྲུག་ཡུལ་',\n",
       " 'Jamaica',\n",
       " 'Tchad تشاد',\n",
       " 'Moldova',\n",
       " 'Česko',\n",
       " 'Беларусь',\n",
       " 'Ecuador']"
      ]
     },
     "execution_count": 57,
     "metadata": {},
     "output_type": "execute_result"
    }
   ],
   "source": [
    "df[\"country_name\"].unique().tolist()"
   ]
  },
  {
   "cell_type": "code",
   "execution_count": 58,
   "metadata": {},
   "outputs": [],
   "source": [
    "df[\"country_name_\"]= df[\"country_name\"].apply(lambda x : x.strip().lower()) # final country column"
   ]
  },
  {
   "cell_type": "code",
   "execution_count": 59,
   "metadata": {},
   "outputs": [
    {
     "data": {
      "text/plain": [
       "united states     438\n",
       "missing           284\n",
       "france            159\n",
       "españa            156\n",
       "united kingdom    117\n",
       "                 ... \n",
       "ኢትዮጵያ               1\n",
       "україна             1\n",
       "bénin               1\n",
       "မြန်မာ              1\n",
       "ecuador             1\n",
       "Name: country_name_, Length: 134, dtype: int64"
      ]
     },
     "execution_count": 59,
     "metadata": {},
     "output_type": "execute_result"
    }
   ],
   "source": [
    "df[\"country_name_\"].value_counts()"
   ]
  },
  {
   "cell_type": "markdown",
   "metadata": {},
   "source": [
    "### finaly missing countries reduce to 284  "
   ]
  },
  {
   "cell_type": "code",
   "execution_count": 62,
   "metadata": {},
   "outputs": [
    {
     "name": "stdout",
     "output_type": "stream",
     "text": [
      "<class 'pandas.core.frame.DataFrame'>\n",
      "RangeIndex: 2500 entries, 0 to 2499\n",
      "Data columns (total 13 columns):\n",
      " #   Column         Non-Null Count  Dtype         \n",
      "---  ------         --------------  -----         \n",
      " 0   Code           2500 non-null   object        \n",
      " 1   Hotel Name     2500 non-null   object        \n",
      " 2   Roomnights     2500 non-null   int64         \n",
      " 3   Sale           2500 non-null   int64         \n",
      " 4   Cost           2500 non-null   int64         \n",
      " 5   Date           2500 non-null   datetime64[ns]\n",
      " 6   month          2500 non-null   int64         \n",
      " 7   year           2500 non-null   int64         \n",
      " 8   geocode        2500 non-null   object        \n",
      " 9   country        2500 non-null   object        \n",
      " 10  country_name   2500 non-null   object        \n",
      " 11  country_name_  2500 non-null   object        \n",
      " 12  profit         2500 non-null   int64         \n",
      "dtypes: datetime64[ns](1), int64(6), object(6)\n",
      "memory usage: 254.0+ KB\n"
     ]
    }
   ],
   "source": [
    "df.info()"
   ]
  },
  {
   "cell_type": "markdown",
   "metadata": {},
   "source": [
    "## Drop [ geocode  , country , country_name  ]"
   ]
  },
  {
   "cell_type": "code",
   "execution_count": 63,
   "metadata": {},
   "outputs": [],
   "source": [
    "df.drop([\"geocode\", \"country\", \"country_name\", \"Date\"] , axis =1 , inplace= True)"
   ]
  },
  {
   "cell_type": "code",
   "execution_count": 64,
   "metadata": {},
   "outputs": [
    {
     "name": "stdout",
     "output_type": "stream",
     "text": [
      "<class 'pandas.core.frame.DataFrame'>\n",
      "RangeIndex: 2500 entries, 0 to 2499\n",
      "Data columns (total 9 columns):\n",
      " #   Column         Non-Null Count  Dtype \n",
      "---  ------         --------------  ----- \n",
      " 0   Code           2500 non-null   object\n",
      " 1   Hotel Name     2500 non-null   object\n",
      " 2   Roomnights     2500 non-null   int64 \n",
      " 3   Sale           2500 non-null   int64 \n",
      " 4   Cost           2500 non-null   int64 \n",
      " 5   month          2500 non-null   int64 \n",
      " 6   year           2500 non-null   int64 \n",
      " 7   country_name_  2500 non-null   object\n",
      " 8   profit         2500 non-null   int64 \n",
      "dtypes: int64(6), object(3)\n",
      "memory usage: 175.9+ KB\n"
     ]
    }
   ],
   "source": [
    "df.info()"
   ]
  },
  {
   "cell_type": "code",
   "execution_count": null,
   "metadata": {},
   "outputs": [],
   "source": []
  },
  {
   "cell_type": "code",
   "execution_count": null,
   "metadata": {},
   "outputs": [],
   "source": []
  },
  {
   "cell_type": "markdown",
   "metadata": {},
   "source": [
    "# 2)  Analysis( Univariant & Bivariant )"
   ]
  },
  {
   "cell_type": "code",
   "execution_count": 66,
   "metadata": {},
   "outputs": [
    {
     "name": "stdout",
     "output_type": "stream",
     "text": [
      "<class 'pandas.core.frame.DataFrame'>\n",
      "RangeIndex: 2500 entries, 0 to 2499\n",
      "Data columns (total 9 columns):\n",
      " #   Column         Non-Null Count  Dtype \n",
      "---  ------         --------------  ----- \n",
      " 0   Code           2500 non-null   object\n",
      " 1   Hotel Name     2500 non-null   object\n",
      " 2   Roomnights     2500 non-null   int64 \n",
      " 3   Sale           2500 non-null   int64 \n",
      " 4   Cost           2500 non-null   int64 \n",
      " 5   month          2500 non-null   int64 \n",
      " 6   year           2500 non-null   int64 \n",
      " 7   country_name_  2500 non-null   object\n",
      " 8   profit         2500 non-null   int64 \n",
      "dtypes: int64(6), object(3)\n",
      "memory usage: 175.9+ KB\n"
     ]
    }
   ],
   "source": [
    "df.info()"
   ]
  },
  {
   "cell_type": "markdown",
   "metadata": {},
   "source": [
    "\n",
    "## - Roomnights"
   ]
  },
  {
   "cell_type": "markdown",
   "metadata": {},
   "source": [
    "- The total number of rooms a planner commits to occupy at the hotel in exchange for a specific contracted rate. The number of room nights does not equal the number of attendees. One attendee could occupy three room nights for a three night hotel stay.\n"
   ]
  },
  {
   "cell_type": "code",
   "execution_count": 74,
   "metadata": {},
   "outputs": [
    {
     "data": {
      "text/plain": [
       "count    2500.000000\n",
       "mean     1000.586800\n",
       "std       575.872115\n",
       "min         1.000000\n",
       "25%       502.000000\n",
       "50%      1002.500000\n",
       "75%      1500.750000\n",
       "max      1999.000000\n",
       "Name: Roomnights, dtype: float64"
      ]
     },
     "execution_count": 74,
     "metadata": {},
     "output_type": "execute_result"
    }
   ],
   "source": [
    "df['Roomnights'].describe()"
   ]
  },
  {
   "cell_type": "code",
   "execution_count": 75,
   "metadata": {},
   "outputs": [
    {
     "data": {
      "text/plain": [
       "<seaborn.axisgrid.FacetGrid at 0x1d8ea676be0>"
      ]
     },
     "execution_count": 75,
     "metadata": {},
     "output_type": "execute_result"
    },
    {
     "data": {
      "image/png": "[encoded data removed]",
      "text/plain": [
       "<Figure size 360x360 with 1 Axes>"
      ]
     },
     "metadata": {},
     "output_type": "display_data"
    }
   ],
   "source": [
    "sns.set_theme(style=\"darkgrid\")\n",
    "sns.displot(data=df , x='Roomnights')"
   ]
  },
  {
   "cell_type": "code",
   "execution_count": 76,
   "metadata": {},
   "outputs": [
    {
     "data": {
      "text/plain": [
       "<AxesSubplot:xlabel='Roomnights'>"
      ]
     },
     "execution_count": 76,
     "metadata": {},
     "output_type": "execute_result"
    },
    {
     "data": {
      "image/png": "[encoded data removed]",
      "text/plain": [
       "<Figure size 432x288 with 1 Axes>"
      ]
     },
     "metadata": {},
     "output_type": "display_data"
    }
   ],
   "source": [
    "sns.boxplot(data=df , x=\"Roomnights\")"
   ]
  },
  {
   "cell_type": "markdown",
   "metadata": {},
   "source": [
    "almost no outliers"
   ]
  },
  {
   "cell_type": "markdown",
   "metadata": {},
   "source": [
    "## - Sale"
   ]
  },
  {
   "cell_type": "code",
   "execution_count": 77,
   "metadata": {},
   "outputs": [
    {
     "data": {
      "text/plain": [
       "count     2500.000000\n",
       "mean     25075.458000\n",
       "std      14904.071915\n",
       "min         28.000000\n",
       "25%      12421.500000\n",
       "50%      24649.000000\n",
       "75%      37048.500000\n",
       "max      59130.000000\n",
       "Name: Sale, dtype: float64"
      ]
     },
     "execution_count": 77,
     "metadata": {},
     "output_type": "execute_result"
    }
   ],
   "source": [
    "df[\"Sale\"].describe()"
   ]
  },
  {
   "cell_type": "code",
   "execution_count": 78,
   "metadata": {},
   "outputs": [
    {
     "data": {
      "text/plain": [
       "<seaborn.axisgrid.FacetGrid at 0x1d8ea5a5100>"
      ]
     },
     "execution_count": 78,
     "metadata": {},
     "output_type": "execute_result"
    },
    {
     "data": {
      "image/png": "[encoded data removed]",
      "text/plain": [
       "<Figure size 360x360 with 1 Axes>"
      ]
     },
     "metadata": {},
     "output_type": "display_data"
    }
   ],
   "source": [
    "sns.displot(data=df , x='Sale')"
   ]
  },
  {
   "cell_type": "code",
   "execution_count": 79,
   "metadata": {},
   "outputs": [
    {
     "data": {
      "text/plain": [
       "<AxesSubplot:xlabel='Sale'>"
      ]
     },
     "execution_count": 79,
     "metadata": {},
     "output_type": "execute_result"
    },
    {
     "data": {
      "image/png": "[encoded data removed]",
      "text/plain": [
       "<Figure size 432x288 with 1 Axes>"
      ]
     },
     "metadata": {},
     "output_type": "display_data"
    }
   ],
   "source": [
    "sns.boxplot(data=df , x='Sale')"
   ]
  },
  {
   "cell_type": "markdown",
   "metadata": {},
   "source": [
    "## - Cost"
   ]
  },
  {
   "cell_type": "code",
   "execution_count": 80,
   "metadata": {},
   "outputs": [
    {
     "data": {
      "text/plain": [
       "count     2500.000000\n",
       "mean     17555.022400\n",
       "std      10300.444627\n",
       "min         16.000000\n",
       "25%       8669.000000\n",
       "50%      17480.000000\n",
       "75%      25983.250000\n",
       "max      39720.000000\n",
       "Name: Cost, dtype: float64"
      ]
     },
     "execution_count": 80,
     "metadata": {},
     "output_type": "execute_result"
    }
   ],
   "source": [
    "df['Cost'].describe()"
   ]
  },
  {
   "cell_type": "code",
   "execution_count": 81,
   "metadata": {},
   "outputs": [
    {
     "data": {
      "text/plain": [
       "<AxesSubplot:xlabel='Cost', ylabel='Density'>"
      ]
     },
     "execution_count": 81,
     "metadata": {},
     "output_type": "execute_result"
    },
    {
     "data": {
      "image/png": "[encoded data removed]",
      "text/plain": [
       "<Figure size 432x288 with 1 Axes>"
      ]
     },
     "metadata": {},
     "output_type": "display_data"
    }
   ],
   "source": [
    "sns.kdeplot(data=df , x='Cost', shade=True)"
   ]
  },
  {
   "cell_type": "code",
   "execution_count": 82,
   "metadata": {},
   "outputs": [
    {
     "data": {
      "text/plain": [
       "<AxesSubplot:xlabel='Cost'>"
      ]
     },
     "execution_count": 82,
     "metadata": {},
     "output_type": "execute_result"
    },
    {
     "data": {
      "image/png": "[encoded data removed]",
      "text/plain": [
       "<Figure size 432x288 with 1 Axes>"
      ]
     },
     "metadata": {},
     "output_type": "display_data"
    }
   ],
   "source": [
    "sns.boxplot(data= df , x=\"Cost\")"
   ]
  },
  {
   "cell_type": "markdown",
   "metadata": {},
   "source": [
    "## - profit"
   ]
  },
  {
   "cell_type": "code",
   "execution_count": 84,
   "metadata": {},
   "outputs": [
    {
     "data": {
      "text/plain": [
       "count     2500.000000\n",
       "mean      7520.435600\n",
       "std       6070.726995\n",
       "min      -1275.000000\n",
       "25%       2544.000000\n",
       "50%       6068.000000\n",
       "75%      11240.250000\n",
       "max      28350.000000\n",
       "Name: profit, dtype: float64"
      ]
     },
     "execution_count": 84,
     "metadata": {},
     "output_type": "execute_result"
    }
   ],
   "source": [
    "df[\"profit\"].describe()"
   ]
  },
  {
   "cell_type": "markdown",
   "metadata": {},
   "source": [
    "### profit with negative value means there are losses in hotels "
   ]
  },
  {
   "cell_type": "code",
   "execution_count": 85,
   "metadata": {},
   "outputs": [
    {
     "data": {
      "text/plain": [
       "<seaborn.axisgrid.FacetGrid at 0x1d8ea967190>"
      ]
     },
     "execution_count": 85,
     "metadata": {},
     "output_type": "execute_result"
    },
    {
     "data": {
      "image/png": "[encoded data removed]",
      "text/plain": [
       "<Figure size 360x360 with 1 Axes>"
      ]
     },
     "metadata": {},
     "output_type": "display_data"
    }
   ],
   "source": [
    "sns.displot(data=df , x='profit')"
   ]
  },
  {
   "cell_type": "markdown",
   "metadata": {},
   "source": [
    "### distribution show that profit dist. is right skweed ndicates that there are observations at one of the extreme ends of the distribution, this means more frequant date is in the left and decaded ond the right "
   ]
  },
  {
   "cell_type": "code",
   "execution_count": 86,
   "metadata": {},
   "outputs": [
    {
     "data": {
      "text/plain": [
       "<AxesSubplot:xlabel='profit'>"
      ]
     },
     "execution_count": 86,
     "metadata": {},
     "output_type": "execute_result"
    },
    {
     "data": {
      "image/png": "[encoded data removed]",
      "text/plain": [
       "<Figure size 432x288 with 1 Axes>"
      ]
     },
     "metadata": {},
     "output_type": "display_data"
    }
   ],
   "source": [
    "sns.boxplot(data=df , x=\"profit\")"
   ]
  },
  {
   "cell_type": "code",
   "execution_count": 88,
   "metadata": {},
   "outputs": [],
   "source": [
    "profit_outliers_indicies= detect_outliers(df , 0 , ['profit'])"
   ]
  },
  {
   "cell_type": "code",
   "execution_count": 89,
   "metadata": {},
   "outputs": [
    {
     "data": {
      "text/plain": [
       "24"
      ]
     },
     "execution_count": 89,
     "metadata": {},
     "output_type": "execute_result"
    }
   ],
   "source": [
    "len(profit_outliers_indicies)"
   ]
  },
  {
   "cell_type": "code",
   "execution_count": 90,
   "metadata": {},
   "outputs": [
    {
     "data": {
      "text/html": [
       "<div>\n",
       "<style scoped>\n",
       "    .dataframe tbody tr th:only-of-type {\n",
       "        vertical-align: middle;\n",
       "    }\n",
       "\n",
       "    .dataframe tbody tr th {\n",
       "        vertical-align: top;\n",
       "    }\n",
       "\n",
       "    .dataframe thead th {\n",
       "        text-align: right;\n",
       "    }\n",
       "</style>\n",
       "<table border=\"1\" class=\"dataframe\">\n",
       "  <thead>\n",
       "    <tr style=\"text-align: right;\">\n",
       "      <th></th>\n",
       "      <th>Code</th>\n",
       "      <th>Hotel Name</th>\n",
       "      <th>Roomnights</th>\n",
       "      <th>Sale</th>\n",
       "      <th>Cost</th>\n",
       "      <th>month</th>\n",
       "      <th>year</th>\n",
       "      <th>country_name_</th>\n",
       "      <th>profit</th>\n",
       "    </tr>\n",
       "  </thead>\n",
       "  <tbody>\n",
       "    <tr>\n",
       "      <th>14</th>\n",
       "      <td>CODE|87361</td>\n",
       "      <td>Best Western Plus Waterloo</td>\n",
       "      <td>1962</td>\n",
       "      <td>58860</td>\n",
       "      <td>33354</td>\n",
       "      <td>3</td>\n",
       "      <td>2019</td>\n",
       "      <td>united states</td>\n",
       "      <td>25506</td>\n",
       "    </tr>\n",
       "    <tr>\n",
       "      <th>73</th>\n",
       "      <td>CODE|85296</td>\n",
       "      <td>Best Western Plus Orangeville Inn &amp; Suites</td>\n",
       "      <td>1951</td>\n",
       "      <td>54628</td>\n",
       "      <td>29265</td>\n",
       "      <td>4</td>\n",
       "      <td>2019</td>\n",
       "      <td>united states</td>\n",
       "      <td>25363</td>\n",
       "    </tr>\n",
       "    <tr>\n",
       "      <th>154</th>\n",
       "      <td>CODE|82461</td>\n",
       "      <td>Best Western Plus Fort Wayne Inn &amp; Suites North</td>\n",
       "      <td>1762</td>\n",
       "      <td>52860</td>\n",
       "      <td>28192</td>\n",
       "      <td>11</td>\n",
       "      <td>2019</td>\n",
       "      <td>united states</td>\n",
       "      <td>24668</td>\n",
       "    </tr>\n",
       "    <tr>\n",
       "      <th>174</th>\n",
       "      <td>CODE|81761</td>\n",
       "      <td>Best Western Plus Cobourg Inn &amp; Convention Centre</td>\n",
       "      <td>1857</td>\n",
       "      <td>55710</td>\n",
       "      <td>29712</td>\n",
       "      <td>5</td>\n",
       "      <td>2019</td>\n",
       "      <td>united states</td>\n",
       "      <td>25998</td>\n",
       "    </tr>\n",
       "    <tr>\n",
       "      <th>219</th>\n",
       "      <td>CODE|80186</td>\n",
       "      <td>Best Western Pembroke Inn &amp; Conference Centre</td>\n",
       "      <td>1948</td>\n",
       "      <td>56492</td>\n",
       "      <td>31168</td>\n",
       "      <td>10</td>\n",
       "      <td>2019</td>\n",
       "      <td>canada</td>\n",
       "      <td>25324</td>\n",
       "    </tr>\n",
       "    <tr>\n",
       "      <th>363</th>\n",
       "      <td>CODE|75146</td>\n",
       "      <td>Best Western Hotel International</td>\n",
       "      <td>1805</td>\n",
       "      <td>52345</td>\n",
       "      <td>27075</td>\n",
       "      <td>8</td>\n",
       "      <td>2019</td>\n",
       "      <td>united states</td>\n",
       "      <td>25270</td>\n",
       "    </tr>\n",
       "    <tr>\n",
       "      <th>445</th>\n",
       "      <td>CODE|72276</td>\n",
       "      <td>Best Western Darbar Delhi</td>\n",
       "      <td>1673</td>\n",
       "      <td>50190</td>\n",
       "      <td>25095</td>\n",
       "      <td>4</td>\n",
       "      <td>2019</td>\n",
       "      <td>brasil</td>\n",
       "      <td>25095</td>\n",
       "    </tr>\n",
       "    <tr>\n",
       "      <th>459</th>\n",
       "      <td>CODE|71786</td>\n",
       "      <td>Best Western City Hotel Moran</td>\n",
       "      <td>1979</td>\n",
       "      <td>57391</td>\n",
       "      <td>29685</td>\n",
       "      <td>11</td>\n",
       "      <td>2019</td>\n",
       "      <td>sverige</td>\n",
       "      <td>27706</td>\n",
       "    </tr>\n",
       "    <tr>\n",
       "      <th>520</th>\n",
       "      <td>CODE|69266</td>\n",
       "      <td>Best Western Abbots Barton Hotel</td>\n",
       "      <td>1934</td>\n",
       "      <td>58020</td>\n",
       "      <td>30944</td>\n",
       "      <td>3</td>\n",
       "      <td>2019</td>\n",
       "      <td>missing</td>\n",
       "      <td>27076</td>\n",
       "    </tr>\n",
       "    <tr>\n",
       "      <th>584</th>\n",
       "      <td>CODE|67026</td>\n",
       "      <td>Bel Azur Hotel</td>\n",
       "      <td>1947</td>\n",
       "      <td>58410</td>\n",
       "      <td>31152</td>\n",
       "      <td>7</td>\n",
       "      <td>2019</td>\n",
       "      <td>malta</td>\n",
       "      <td>27258</td>\n",
       "    </tr>\n",
       "    <tr>\n",
       "      <th>652</th>\n",
       "      <td>CODE|64646</td>\n",
       "      <td>Baton Rouge Marriott</td>\n",
       "      <td>1916</td>\n",
       "      <td>57480</td>\n",
       "      <td>32572</td>\n",
       "      <td>5</td>\n",
       "      <td>2019</td>\n",
       "      <td>united states</td>\n",
       "      <td>24908</td>\n",
       "    </tr>\n",
       "    <tr>\n",
       "      <th>675</th>\n",
       "      <td>CODE|63841</td>\n",
       "      <td>Baron Al Masif</td>\n",
       "      <td>1764</td>\n",
       "      <td>52920</td>\n",
       "      <td>28224</td>\n",
       "      <td>7</td>\n",
       "      <td>2019</td>\n",
       "      <td>اليمن</td>\n",
       "      <td>24696</td>\n",
       "    </tr>\n",
       "    <tr>\n",
       "      <th>1150</th>\n",
       "      <td>CODE|47216</td>\n",
       "      <td>Arthur Garden Inn Hotel</td>\n",
       "      <td>1949</td>\n",
       "      <td>58470</td>\n",
       "      <td>31184</td>\n",
       "      <td>3</td>\n",
       "      <td>2019</td>\n",
       "      <td>india</td>\n",
       "      <td>27286</td>\n",
       "    </tr>\n",
       "    <tr>\n",
       "      <th>1163</th>\n",
       "      <td>CODE|46761</td>\n",
       "      <td>Art Palace Suites &amp; Spa</td>\n",
       "      <td>1893</td>\n",
       "      <td>56790</td>\n",
       "      <td>32181</td>\n",
       "      <td>2</td>\n",
       "      <td>2019</td>\n",
       "      <td>united states</td>\n",
       "      <td>24609</td>\n",
       "    </tr>\n",
       "    <tr>\n",
       "      <th>1575</th>\n",
       "      <td>CODE|32341</td>\n",
       "      <td>Amber Hotel</td>\n",
       "      <td>1751</td>\n",
       "      <td>52530</td>\n",
       "      <td>26265</td>\n",
       "      <td>8</td>\n",
       "      <td>2019</td>\n",
       "      <td>france</td>\n",
       "      <td>26265</td>\n",
       "    </tr>\n",
       "    <tr>\n",
       "      <th>1821</th>\n",
       "      <td>CODE|23731</td>\n",
       "      <td>Albergo le Due Corti</td>\n",
       "      <td>1882</td>\n",
       "      <td>56460</td>\n",
       "      <td>30112</td>\n",
       "      <td>10</td>\n",
       "      <td>2019</td>\n",
       "      <td>éire / ireland</td>\n",
       "      <td>26348</td>\n",
       "    </tr>\n",
       "    <tr>\n",
       "      <th>1887</th>\n",
       "      <td>CODE|21421</td>\n",
       "      <td>Al Najada Doha Hotel by Tivoli</td>\n",
       "      <td>1743</td>\n",
       "      <td>52290</td>\n",
       "      <td>27888</td>\n",
       "      <td>3</td>\n",
       "      <td>2019</td>\n",
       "      <td>قطر</td>\n",
       "      <td>24402</td>\n",
       "    </tr>\n",
       "    <tr>\n",
       "      <th>2129</th>\n",
       "      <td>CODE|12951</td>\n",
       "      <td>ADMIRAL HOTEL</td>\n",
       "      <td>1928</td>\n",
       "      <td>57840</td>\n",
       "      <td>32776</td>\n",
       "      <td>2</td>\n",
       "      <td>2019</td>\n",
       "      <td>philippines</td>\n",
       "      <td>25064</td>\n",
       "    </tr>\n",
       "    <tr>\n",
       "      <th>2186</th>\n",
       "      <td>CODE|10956</td>\n",
       "      <td>acora Hotel und Wohnen</td>\n",
       "      <td>1890</td>\n",
       "      <td>56700</td>\n",
       "      <td>28350</td>\n",
       "      <td>10</td>\n",
       "      <td>2019</td>\n",
       "      <td>united kingdom</td>\n",
       "      <td>28350</td>\n",
       "    </tr>\n",
       "    <tr>\n",
       "      <th>2222</th>\n",
       "      <td>CODE|9696</td>\n",
       "      <td>AC Hotel Raleigh North Hills</td>\n",
       "      <td>1890</td>\n",
       "      <td>54810</td>\n",
       "      <td>28350</td>\n",
       "      <td>7</td>\n",
       "      <td>2019</td>\n",
       "      <td>united states</td>\n",
       "      <td>26460</td>\n",
       "    </tr>\n",
       "    <tr>\n",
       "      <th>2326</th>\n",
       "      <td>CODE|6056</td>\n",
       "      <td>Aber Khamis Mushait</td>\n",
       "      <td>1833</td>\n",
       "      <td>54990</td>\n",
       "      <td>27495</td>\n",
       "      <td>7</td>\n",
       "      <td>2019</td>\n",
       "      <td>السعودية</td>\n",
       "      <td>27495</td>\n",
       "    </tr>\n",
       "    <tr>\n",
       "      <th>2425</th>\n",
       "      <td>CODE|2591</td>\n",
       "      <td>Sanctuary Hotel New York</td>\n",
       "      <td>1941</td>\n",
       "      <td>58230</td>\n",
       "      <td>32997</td>\n",
       "      <td>5</td>\n",
       "      <td>2019</td>\n",
       "      <td>united states</td>\n",
       "      <td>25233</td>\n",
       "    </tr>\n",
       "    <tr>\n",
       "      <th>2455</th>\n",
       "      <td>CODE|1541</td>\n",
       "      <td>ibis Styles Aix Les Bains Domaine de Marlioz ...</td>\n",
       "      <td>1939</td>\n",
       "      <td>58170</td>\n",
       "      <td>32963</td>\n",
       "      <td>8</td>\n",
       "      <td>2019</td>\n",
       "      <td>france</td>\n",
       "      <td>25207</td>\n",
       "    </tr>\n",
       "    <tr>\n",
       "      <th>2481</th>\n",
       "      <td>CODE|631</td>\n",
       "      <td>Best Western Snowflake Inn</td>\n",
       "      <td>1892</td>\n",
       "      <td>56760</td>\n",
       "      <td>32164</td>\n",
       "      <td>10</td>\n",
       "      <td>2019</td>\n",
       "      <td>united states</td>\n",
       "      <td>24596</td>\n",
       "    </tr>\n",
       "  </tbody>\n",
       "</table>\n",
       "</div>"
      ],
      "text/plain": [
       "            Code                                         Hotel Name  \\\n",
       "14    CODE|87361                         Best Western Plus Waterloo   \n",
       "73    CODE|85296         Best Western Plus Orangeville Inn & Suites   \n",
       "154   CODE|82461    Best Western Plus Fort Wayne Inn & Suites North   \n",
       "174   CODE|81761  Best Western Plus Cobourg Inn & Convention Centre   \n",
       "219   CODE|80186      Best Western Pembroke Inn & Conference Centre   \n",
       "363   CODE|75146                   Best Western Hotel International   \n",
       "445   CODE|72276                          Best Western Darbar Delhi   \n",
       "459   CODE|71786                      Best Western City Hotel Moran   \n",
       "520   CODE|69266                   Best Western Abbots Barton Hotel   \n",
       "584   CODE|67026                                     Bel Azur Hotel   \n",
       "652   CODE|64646                               Baton Rouge Marriott   \n",
       "675   CODE|63841                                     Baron Al Masif   \n",
       "1150  CODE|47216                            Arthur Garden Inn Hotel   \n",
       "1163  CODE|46761                            Art Palace Suites & Spa   \n",
       "1575  CODE|32341                                        Amber Hotel   \n",
       "1821  CODE|23731                               Albergo le Due Corti   \n",
       "1887  CODE|21421                     Al Najada Doha Hotel by Tivoli   \n",
       "2129  CODE|12951                                      ADMIRAL HOTEL   \n",
       "2186  CODE|10956                             acora Hotel und Wohnen   \n",
       "2222   CODE|9696                       AC Hotel Raleigh North Hills   \n",
       "2326   CODE|6056                                Aber Khamis Mushait   \n",
       "2425   CODE|2591                           Sanctuary Hotel New York   \n",
       "2455   CODE|1541   ibis Styles Aix Les Bains Domaine de Marlioz ...   \n",
       "2481    CODE|631                         Best Western Snowflake Inn   \n",
       "\n",
       "      Roomnights   Sale   Cost  month  year   country_name_  profit  \n",
       "14          1962  58860  33354      3  2019   united states   25506  \n",
       "73          1951  54628  29265      4  2019   united states   25363  \n",
       "154         1762  52860  28192     11  2019   united states   24668  \n",
       "174         1857  55710  29712      5  2019   united states   25998  \n",
       "219         1948  56492  31168     10  2019          canada   25324  \n",
       "363         1805  52345  27075      8  2019   united states   25270  \n",
       "445         1673  50190  25095      4  2019          brasil   25095  \n",
       "459         1979  57391  29685     11  2019         sverige   27706  \n",
       "520         1934  58020  30944      3  2019         missing   27076  \n",
       "584         1947  58410  31152      7  2019           malta   27258  \n",
       "652         1916  57480  32572      5  2019   united states   24908  \n",
       "675         1764  52920  28224      7  2019           اليمن   24696  \n",
       "1150        1949  58470  31184      3  2019           india   27286  \n",
       "1163        1893  56790  32181      2  2019   united states   24609  \n",
       "1575        1751  52530  26265      8  2019          france   26265  \n",
       "1821        1882  56460  30112     10  2019  éire / ireland   26348  \n",
       "1887        1743  52290  27888      3  2019             قطر   24402  \n",
       "2129        1928  57840  32776      2  2019     philippines   25064  \n",
       "2186        1890  56700  28350     10  2019  united kingdom   28350  \n",
       "2222        1890  54810  28350      7  2019   united states   26460  \n",
       "2326        1833  54990  27495      7  2019        السعودية   27495  \n",
       "2425        1941  58230  32997      5  2019   united states   25233  \n",
       "2455        1939  58170  32963      8  2019          france   25207  \n",
       "2481        1892  56760  32164     10  2019   united states   24596  "
      ]
     },
     "execution_count": 90,
     "metadata": {},
     "output_type": "execute_result"
    }
   ],
   "source": [
    "df.iloc[ profit_outliers_indicies ]"
   ]
  },
  {
   "cell_type": "markdown",
   "metadata": {},
   "source": [
    "### outliers here respresent an important business value "
   ]
  },
  {
   "cell_type": "code",
   "execution_count": 91,
   "metadata": {},
   "outputs": [],
   "source": [
    "outlier_df = df.iloc[ profit_outliers_indicies ]"
   ]
  },
  {
   "cell_type": "code",
   "execution_count": 94,
   "metadata": {},
   "outputs": [
    {
     "data": {
      "text/html": [
       "<div>\n",
       "<style scoped>\n",
       "    .dataframe tbody tr th:only-of-type {\n",
       "        vertical-align: middle;\n",
       "    }\n",
       "\n",
       "    .dataframe tbody tr th {\n",
       "        vertical-align: top;\n",
       "    }\n",
       "\n",
       "    .dataframe thead th {\n",
       "        text-align: right;\n",
       "    }\n",
       "</style>\n",
       "<table border=\"1\" class=\"dataframe\">\n",
       "  <thead>\n",
       "    <tr style=\"text-align: right;\">\n",
       "      <th></th>\n",
       "      <th>Roomnights</th>\n",
       "      <th>Sale</th>\n",
       "      <th>Cost</th>\n",
       "      <th>month</th>\n",
       "      <th>year</th>\n",
       "      <th>profit</th>\n",
       "    </tr>\n",
       "  </thead>\n",
       "  <tbody>\n",
       "    <tr>\n",
       "      <th>count</th>\n",
       "      <td>24.000000</td>\n",
       "      <td>24.000000</td>\n",
       "      <td>24.000000</td>\n",
       "      <td>24.00000</td>\n",
       "      <td>24.0</td>\n",
       "      <td>24.000000</td>\n",
       "    </tr>\n",
       "    <tr>\n",
       "      <th>mean</th>\n",
       "      <td>1876.208333</td>\n",
       "      <td>55806.083333</td>\n",
       "      <td>29965.125000</td>\n",
       "      <td>6.37500</td>\n",
       "      <td>2019.0</td>\n",
       "      <td>25840.958333</td>\n",
       "    </tr>\n",
       "    <tr>\n",
       "      <th>std</th>\n",
       "      <td>84.269742</td>\n",
       "      <td>2460.764867</td>\n",
       "      <td>2355.661659</td>\n",
       "      <td>2.99002</td>\n",
       "      <td>0.0</td>\n",
       "      <td>1152.251349</td>\n",
       "    </tr>\n",
       "    <tr>\n",
       "      <th>min</th>\n",
       "      <td>1673.000000</td>\n",
       "      <td>50190.000000</td>\n",
       "      <td>25095.000000</td>\n",
       "      <td>2.00000</td>\n",
       "      <td>2019.0</td>\n",
       "      <td>24402.000000</td>\n",
       "    </tr>\n",
       "    <tr>\n",
       "      <th>25%</th>\n",
       "      <td>1826.000000</td>\n",
       "      <td>54201.000000</td>\n",
       "      <td>28216.000000</td>\n",
       "      <td>3.75000</td>\n",
       "      <td>2019.0</td>\n",
       "      <td>25025.000000</td>\n",
       "    </tr>\n",
       "    <tr>\n",
       "      <th>50%</th>\n",
       "      <td>1892.500000</td>\n",
       "      <td>56596.000000</td>\n",
       "      <td>29912.000000</td>\n",
       "      <td>7.00000</td>\n",
       "      <td>2019.0</td>\n",
       "      <td>25343.500000</td>\n",
       "    </tr>\n",
       "    <tr>\n",
       "      <th>75%</th>\n",
       "      <td>1942.500000</td>\n",
       "      <td>57885.000000</td>\n",
       "      <td>32168.250000</td>\n",
       "      <td>8.50000</td>\n",
       "      <td>2019.0</td>\n",
       "      <td>26614.000000</td>\n",
       "    </tr>\n",
       "    <tr>\n",
       "      <th>max</th>\n",
       "      <td>1979.000000</td>\n",
       "      <td>58860.000000</td>\n",
       "      <td>33354.000000</td>\n",
       "      <td>11.00000</td>\n",
       "      <td>2019.0</td>\n",
       "      <td>28350.000000</td>\n",
       "    </tr>\n",
       "  </tbody>\n",
       "</table>\n",
       "</div>"
      ],
      "text/plain": [
       "        Roomnights          Sale          Cost     month    year        profit\n",
       "count    24.000000     24.000000     24.000000  24.00000    24.0     24.000000\n",
       "mean   1876.208333  55806.083333  29965.125000   6.37500  2019.0  25840.958333\n",
       "std      84.269742   2460.764867   2355.661659   2.99002     0.0   1152.251349\n",
       "min    1673.000000  50190.000000  25095.000000   2.00000  2019.0  24402.000000\n",
       "25%    1826.000000  54201.000000  28216.000000   3.75000  2019.0  25025.000000\n",
       "50%    1892.500000  56596.000000  29912.000000   7.00000  2019.0  25343.500000\n",
       "75%    1942.500000  57885.000000  32168.250000   8.50000  2019.0  26614.000000\n",
       "max    1979.000000  58860.000000  33354.000000  11.00000  2019.0  28350.000000"
      ]
     },
     "execution_count": 94,
     "metadata": {},
     "output_type": "execute_result"
    }
   ],
   "source": [
    "outlier_df.describe()"
   ]
  },
  {
   "cell_type": "code",
   "execution_count": 93,
   "metadata": {},
   "outputs": [
    {
     "data": {
      "text/plain": [
       "united states     10\n",
       "france             2\n",
       "canada             1\n",
       "brasil             1\n",
       "sverige            1\n",
       "missing            1\n",
       "malta              1\n",
       "اليمن              1\n",
       "india              1\n",
       "éire / ireland     1\n",
       "قطر                1\n",
       "philippines        1\n",
       "united kingdom     1\n",
       "السعودية           1\n",
       "Name: country_name_, dtype: int64"
      ]
     },
     "execution_count": 93,
     "metadata": {},
     "output_type": "execute_result"
    }
   ],
   "source": [
    "outlier_df[\"country_name_\"].value_counts()"
   ]
  },
  {
   "cell_type": "markdown",
   "metadata": {},
   "source": [
    "### unitied state is the highest "
   ]
  },
  {
   "cell_type": "code",
   "execution_count": null,
   "metadata": {},
   "outputs": [],
   "source": []
  },
  {
   "cell_type": "markdown",
   "metadata": {},
   "source": [
    "# - country_name_"
   ]
  },
  {
   "cell_type": "code",
   "execution_count": 105,
   "metadata": {},
   "outputs": [
    {
     "data": {
      "text/plain": [
       "united states     438\n",
       "missing           284\n",
       "france            159\n",
       "españa            156\n",
       "united kingdom    117\n",
       "                 ... \n",
       "česko               1\n",
       "việt nam            1\n",
       "бългaрия            1\n",
       "sénégal             1\n",
       "ecuador             1\n",
       "Name: country_name_, Length: 134, dtype: int64"
      ]
     },
     "execution_count": 105,
     "metadata": {},
     "output_type": "execute_result"
    }
   ],
   "source": [
    "df[\"country_name_\"].value_counts().sort_values(ascending=False)"
   ]
  },
  {
   "cell_type": "code",
   "execution_count": null,
   "metadata": {},
   "outputs": [],
   "source": []
  },
  {
   "cell_type": "markdown",
   "metadata": {},
   "source": [
    "#  Answers to the below questions and add any metrics that you find important\n",
    "- Hotels with highest profitability and losses.\n",
    "- Countries with highest profitability and losses.\n",
    "- Total Sales per country.\n",
    "- Cluster the data by room nights into three categories: high demand, mid demand, and low demand \n",
    "in a new column and identify the distributio"
   ]
  },
  {
   "cell_type": "code",
   "execution_count": 106,
   "metadata": {},
   "outputs": [
    {
     "name": "stdout",
     "output_type": "stream",
     "text": [
      "<class 'pandas.core.frame.DataFrame'>\n",
      "RangeIndex: 2500 entries, 0 to 2499\n",
      "Data columns (total 9 columns):\n",
      " #   Column         Non-Null Count  Dtype \n",
      "---  ------         --------------  ----- \n",
      " 0   Code           2500 non-null   object\n",
      " 1   Hotel Name     2500 non-null   object\n",
      " 2   Roomnights     2500 non-null   int64 \n",
      " 3   Sale           2500 non-null   int64 \n",
      " 4   Cost           2500 non-null   int64 \n",
      " 5   month          2500 non-null   int64 \n",
      " 6   year           2500 non-null   int64 \n",
      " 7   country_name_  2500 non-null   object\n",
      " 8   profit         2500 non-null   int64 \n",
      "dtypes: int64(6), object(3)\n",
      "memory usage: 175.9+ KB\n"
     ]
    }
   ],
   "source": [
    "df.info()"
   ]
  },
  {
   "cell_type": "markdown",
   "metadata": {},
   "source": [
    "## Hotels with highest profitability and losses"
   ]
  },
  {
   "cell_type": "code",
   "execution_count": 124,
   "metadata": {},
   "outputs": [
    {
     "data": {
      "text/plain": [
       "Hotel Name\n",
       "acora Hotel und Wohnen                     28350\n",
       "Best Western City Hotel Moran              27706\n",
       "Aber Khamis Mushait                        27495\n",
       "Arthur Garden Inn Hotel                    27286\n",
       "Bel Azur Hotel                             27258\n",
       "                                           ...  \n",
       " Ramada Suites Kuala Lumpur City Centre    17800\n",
       "BEACH PALACE                               17793\n",
       "Amatara Wellness Resort                    17776\n",
       "Al Sarab Hotel                             17750\n",
       "Al Habala Resort                           17740\n",
       "Name: profit, Length: 200, dtype: int64"
      ]
     },
     "execution_count": 124,
     "metadata": {},
     "output_type": "execute_result"
    }
   ],
   "source": [
    "df.groupby('Hotel Name').sum()['profit'].sort_values(ascending = False).head(200) # highest profitability"
   ]
  },
  {
   "cell_type": "code",
   "execution_count": null,
   "metadata": {},
   "outputs": [],
   "source": []
  },
  {
   "cell_type": "code",
   "execution_count": 128,
   "metadata": {},
   "outputs": [
    {
     "data": {
      "text/plain": [
       "Hotel Name\n",
       " La Sommità Relais                                       12\n",
       "Best Western Plus Island Palms Hotel & Marina             8\n",
       "Best Western Hazlet Inn                                   0\n",
       "Amwaj Rotana - JBR                                        0\n",
       "Aros Alfaisaliah Furnished Units                          0\n",
       "B Ocean Resort Fort Lauderdale                            0\n",
       "B&B Hotel Amsterdam-Zaandam                               0\n",
       "Barcelona Granvia Plaza Espana                            0\n",
       "B&B Hôtel Marne la Vallée Bussy                           0\n",
       "acora Hotel und Wohnen Karlsruhe                          0\n",
       "AC Hotel New York Times Square                            0\n",
       "Baymont Inn & Suites Denver International Airport         0\n",
       "Best Western Bretagne Montparnasse                        0\n",
       "Acca Patong                                               0\n",
       "Aloft Harlem                                              0\n",
       "Albuquerque Marriott Pyramid North                        0\n",
       "Barın Hotel                                               0\n",
       "Arena Leme Hotel                                          0\n",
       "AC Hotel Guadalajara                                      0\n",
       "BEST WESTERN PLUS Khan Hotel                              0\n",
       "Best Western Courtesy Inn                                 0\n",
       "Alexander Thomson Hotel                                   0\n",
       "Best Western Plus Airport Hotel Copenhagen                0\n",
       "APART-HOTEL operated by HILTON                            0\n",
       "Best Western Plus San Pedro Hotel & Suites                0\n",
       "Anantara New York Palace Budapest Hotel                   0\n",
       "Best Western Premier Al Ahsa Grand Hotel & Suites         0\n",
       "Best Western Adams Inn Quincy - Boston                    0\n",
       "AYANA Resort Bali                                         0\n",
       "Antik Hotel Istanbul                                      0\n",
       " Fairfield by Marriott Curitiba Afonso Pena Airport       0\n",
       "Best Western Plus Paris Velizy                            0\n",
       "Al Hambra Hotel                                           0\n",
       "Aparthotel Acuazul                                        0\n",
       "Al Farhan Suites Ishbillia                                0\n",
       "AC Hotel Valencia                                         0\n",
       "Al Mukhtara International Hotel                           0\n",
       "Best Western Gateway To The Keys                          0\n",
       "Amari Don Muang Airport Bangkok                           0\n",
       "Best Western Plus Windsor Inn                             0\n",
       "Aeminium Coimbra Hotel                                    0\n",
       "Belad Bont Resort                                         0\n",
       "Bekdas Hotel Deluxe                                       0\n",
       "ALCAZAR HOTEL & SPA                                       0\n",
       "Aloft Rogers-Bentonville                                  0\n",
       "Best Western Andersen's Inn                               0\n",
       "#bunk Hotel                                             -72\n",
       "Aber City Center                                       -316\n",
       " Sheraton Moscow Sheremetyevo Airport Hotel           -1122\n",
       "9Hotel Republique                                     -1275\n",
       "Name: profit, dtype: int64"
      ]
     },
     "execution_count": 128,
     "metadata": {},
     "output_type": "execute_result"
    }
   ],
   "source": [
    "df.groupby('Hotel Name').sum()['profit'].sort_values(ascending = False).tail(50) # highest losses"
   ]
  },
  {
   "cell_type": "code",
   "execution_count": null,
   "metadata": {},
   "outputs": [],
   "source": []
  },
  {
   "cell_type": "markdown",
   "metadata": {},
   "source": [
    "## Countries with highest profitability and losses."
   ]
  },
  {
   "cell_type": "code",
   "execution_count": 134,
   "metadata": {},
   "outputs": [
    {
     "data": {
      "text/plain": [
       "country_name_\n",
       "united states     3233239\n",
       "missing           2170036\n",
       "españa            1181224\n",
       "france            1123554\n",
       "united kingdom     864151\n",
       "                   ...   \n",
       "côte d’ivoire         864\n",
       "ecuador               490\n",
       "السودان               258\n",
       "bénin                  32\n",
       "zimbabwe               17\n",
       "Name: profit, Length: 134, dtype: int64"
      ]
     },
     "execution_count": 134,
     "metadata": {},
     "output_type": "execute_result"
    }
   ],
   "source": [
    "df.groupby('country_name_').sum()['profit'].sort_values(ascending = False)   "
   ]
  },
  {
   "cell_type": "markdown",
   "metadata": {},
   "source": [
    "## top 5 highest profitability "
   ]
  },
  {
   "cell_type": "code",
   "execution_count": 149,
   "metadata": {},
   "outputs": [],
   "source": [
    "top_5_countries=df.groupby('country_name_').sum()['profit'].sort_values(ascending = False).head(5) #highest five"
   ]
  },
  {
   "cell_type": "code",
   "execution_count": 150,
   "metadata": {},
   "outputs": [
    {
     "data": {
      "text/plain": [
       "country_name_\n",
       "united states     3233239\n",
       "missing           2170036\n",
       "españa            1181224\n",
       "france            1123554\n",
       "united kingdom     864151\n",
       "Name: profit, dtype: int64"
      ]
     },
     "execution_count": 150,
     "metadata": {},
     "output_type": "execute_result"
    }
   ],
   "source": [
    "top_5_countries"
   ]
  },
  {
   "cell_type": "code",
   "execution_count": 157,
   "metadata": {},
   "outputs": [
    {
     "data": {
      "text/html": [
       "<div>\n",
       "<style scoped>\n",
       "    .dataframe tbody tr th:only-of-type {\n",
       "        vertical-align: middle;\n",
       "    }\n",
       "\n",
       "    .dataframe tbody tr th {\n",
       "        vertical-align: top;\n",
       "    }\n",
       "\n",
       "    .dataframe thead th {\n",
       "        text-align: right;\n",
       "    }\n",
       "</style>\n",
       "<table border=\"1\" class=\"dataframe\">\n",
       "  <thead>\n",
       "    <tr style=\"text-align: right;\">\n",
       "      <th></th>\n",
       "      <th>profit</th>\n",
       "    </tr>\n",
       "    <tr>\n",
       "      <th>country_name_</th>\n",
       "      <th></th>\n",
       "    </tr>\n",
       "  </thead>\n",
       "  <tbody>\n",
       "    <tr>\n",
       "      <th>united states</th>\n",
       "      <td>3233239</td>\n",
       "    </tr>\n",
       "    <tr>\n",
       "      <th>missing</th>\n",
       "      <td>2170036</td>\n",
       "    </tr>\n",
       "    <tr>\n",
       "      <th>españa</th>\n",
       "      <td>1181224</td>\n",
       "    </tr>\n",
       "    <tr>\n",
       "      <th>france</th>\n",
       "      <td>1123554</td>\n",
       "    </tr>\n",
       "    <tr>\n",
       "      <th>united kingdom</th>\n",
       "      <td>864151</td>\n",
       "    </tr>\n",
       "  </tbody>\n",
       "</table>\n",
       "</div>"
      ],
      "text/plain": [
       "                 profit\n",
       "country_name_          \n",
       "united states   3233239\n",
       "missing         2170036\n",
       "españa          1181224\n",
       "france          1123554\n",
       "united kingdom   864151"
      ]
     },
     "execution_count": 157,
     "metadata": {},
     "output_type": "execute_result"
    }
   ],
   "source": [
    "pd.DataFrame(data=top_5_countries , index=top_5_countries.index )"
   ]
  },
  {
   "cell_type": "markdown",
   "metadata": {},
   "source": [
    "## 10 countries highest losses"
   ]
  },
  {
   "cell_type": "code",
   "execution_count": 161,
   "metadata": {},
   "outputs": [],
   "source": [
    "highest_losses=df.groupby('country_name_').sum()['profit'].sort_values(ascending = False).tail(10)"
   ]
  },
  {
   "cell_type": "code",
   "execution_count": 162,
   "metadata": {},
   "outputs": [
    {
     "data": {
      "text/html": [
       "<div>\n",
       "<style scoped>\n",
       "    .dataframe tbody tr th:only-of-type {\n",
       "        vertical-align: middle;\n",
       "    }\n",
       "\n",
       "    .dataframe tbody tr th {\n",
       "        vertical-align: top;\n",
       "    }\n",
       "\n",
       "    .dataframe thead th {\n",
       "        text-align: right;\n",
       "    }\n",
       "</style>\n",
       "<table border=\"1\" class=\"dataframe\">\n",
       "  <thead>\n",
       "    <tr style=\"text-align: right;\">\n",
       "      <th></th>\n",
       "      <th>profit</th>\n",
       "    </tr>\n",
       "    <tr>\n",
       "      <th>country_name_</th>\n",
       "      <th></th>\n",
       "    </tr>\n",
       "  </thead>\n",
       "  <tbody>\n",
       "    <tr>\n",
       "      <th>shqipëria</th>\n",
       "      <td>2496</td>\n",
       "    </tr>\n",
       "    <tr>\n",
       "      <th>бългaрия</th>\n",
       "      <td>2076</td>\n",
       "    </tr>\n",
       "    <tr>\n",
       "      <th>venezuela</th>\n",
       "      <td>1752</td>\n",
       "    </tr>\n",
       "    <tr>\n",
       "      <th>لبنان</th>\n",
       "      <td>1356</td>\n",
       "    </tr>\n",
       "    <tr>\n",
       "      <th>việt nam</th>\n",
       "      <td>1041</td>\n",
       "    </tr>\n",
       "    <tr>\n",
       "      <th>côte d’ivoire</th>\n",
       "      <td>864</td>\n",
       "    </tr>\n",
       "    <tr>\n",
       "      <th>ecuador</th>\n",
       "      <td>490</td>\n",
       "    </tr>\n",
       "    <tr>\n",
       "      <th>السودان</th>\n",
       "      <td>258</td>\n",
       "    </tr>\n",
       "    <tr>\n",
       "      <th>bénin</th>\n",
       "      <td>32</td>\n",
       "    </tr>\n",
       "    <tr>\n",
       "      <th>zimbabwe</th>\n",
       "      <td>17</td>\n",
       "    </tr>\n",
       "  </tbody>\n",
       "</table>\n",
       "</div>"
      ],
      "text/plain": [
       "               profit\n",
       "country_name_        \n",
       "shqipëria        2496\n",
       "бългaрия         2076\n",
       "venezuela        1752\n",
       "لبنان            1356\n",
       "việt nam         1041\n",
       "côte d’ivoire     864\n",
       "ecuador           490\n",
       "السودان           258\n",
       "bénin              32\n",
       "zimbabwe           17"
      ]
     },
     "execution_count": 162,
     "metadata": {},
     "output_type": "execute_result"
    }
   ],
   "source": [
    "pd.DataFrame(data=highest_losses , index=highest_losses.index)"
   ]
  },
  {
   "cell_type": "markdown",
   "metadata": {},
   "source": [
    "# Total Sales per country."
   ]
  },
  {
   "cell_type": "code",
   "execution_count": 163,
   "metadata": {},
   "outputs": [],
   "source": [
    "x=df.groupby('country_name_').sum()['Sale'].sort_values(ascending = False)"
   ]
  },
  {
   "cell_type": "code",
   "execution_count": 164,
   "metadata": {},
   "outputs": [],
   "source": [
    "Total_Sales_per_country= pd.DataFrame(data= x , index=x.index)"
   ]
  },
  {
   "cell_type": "code",
   "execution_count": 165,
   "metadata": {},
   "outputs": [
    {
     "data": {
      "text/html": [
       "<div>\n",
       "<style scoped>\n",
       "    .dataframe tbody tr th:only-of-type {\n",
       "        vertical-align: middle;\n",
       "    }\n",
       "\n",
       "    .dataframe tbody tr th {\n",
       "        vertical-align: top;\n",
       "    }\n",
       "\n",
       "    .dataframe thead th {\n",
       "        text-align: right;\n",
       "    }\n",
       "</style>\n",
       "<table border=\"1\" class=\"dataframe\">\n",
       "  <thead>\n",
       "    <tr style=\"text-align: right;\">\n",
       "      <th></th>\n",
       "      <th>Sale</th>\n",
       "    </tr>\n",
       "    <tr>\n",
       "      <th>country_name_</th>\n",
       "      <th></th>\n",
       "    </tr>\n",
       "  </thead>\n",
       "  <tbody>\n",
       "    <tr>\n",
       "      <th>united states</th>\n",
       "      <td>10868187</td>\n",
       "    </tr>\n",
       "    <tr>\n",
       "      <th>missing</th>\n",
       "      <td>7212163</td>\n",
       "    </tr>\n",
       "    <tr>\n",
       "      <th>españa</th>\n",
       "      <td>4095938</td>\n",
       "    </tr>\n",
       "    <tr>\n",
       "      <th>france</th>\n",
       "      <td>3713852</td>\n",
       "    </tr>\n",
       "    <tr>\n",
       "      <th>united kingdom</th>\n",
       "      <td>2841412</td>\n",
       "    </tr>\n",
       "    <tr>\n",
       "      <th>...</th>\n",
       "      <td>...</td>\n",
       "    </tr>\n",
       "    <tr>\n",
       "      <th>côte d’ivoire</th>\n",
       "      <td>3168</td>\n",
       "    </tr>\n",
       "    <tr>\n",
       "      <th>ecuador</th>\n",
       "      <td>2156</td>\n",
       "    </tr>\n",
       "    <tr>\n",
       "      <th>السودان</th>\n",
       "      <td>946</td>\n",
       "    </tr>\n",
       "    <tr>\n",
       "      <th>zimbabwe</th>\n",
       "      <td>340</td>\n",
       "    </tr>\n",
       "    <tr>\n",
       "      <th>bénin</th>\n",
       "      <td>100</td>\n",
       "    </tr>\n",
       "  </tbody>\n",
       "</table>\n",
       "<p>134 rows × 1 columns</p>\n",
       "</div>"
      ],
      "text/plain": [
       "                    Sale\n",
       "country_name_           \n",
       "united states   10868187\n",
       "missing          7212163\n",
       "españa           4095938\n",
       "france           3713852\n",
       "united kingdom   2841412\n",
       "...                  ...\n",
       "côte d’ivoire       3168\n",
       "ecuador             2156\n",
       "السودان              946\n",
       "zimbabwe             340\n",
       "bénin                100\n",
       "\n",
       "[134 rows x 1 columns]"
      ]
     },
     "execution_count": 165,
     "metadata": {},
     "output_type": "execute_result"
    }
   ],
   "source": [
    "Total_Sales_per_country"
   ]
  },
  {
   "cell_type": "markdown",
   "metadata": {},
   "source": [
    "## Cluster the data by room nights into three categories: high demand, mid demand, and low demand in a new column and identify the distributio"
   ]
  },
  {
   "cell_type": "code",
   "execution_count": 166,
   "metadata": {},
   "outputs": [
    {
     "data": {
      "text/plain": [
       "count    2500.000000\n",
       "mean     1000.586800\n",
       "std       575.872115\n",
       "min         1.000000\n",
       "25%       502.000000\n",
       "50%      1002.500000\n",
       "75%      1500.750000\n",
       "max      1999.000000\n",
       "Name: Roomnights, dtype: float64"
      ]
     },
     "execution_count": 166,
     "metadata": {},
     "output_type": "execute_result"
    }
   ],
   "source": [
    "df['Roomnights'].describe()"
   ]
  },
  {
   "cell_type": "code",
   "execution_count": 168,
   "metadata": {},
   "outputs": [],
   "source": [
    "def room_clusturing(row):\n",
    "    if row >=1500:\n",
    "        return \"high demand\"\n",
    "    elif row<=500 :\n",
    "        return \"low demand\"\n",
    "    else :\n",
    "        return \"mid demand\""
   ]
  },
  {
   "cell_type": "code",
   "execution_count": 169,
   "metadata": {},
   "outputs": [],
   "source": [
    "df[\"room_demand\"]= df[\"Roomnights\"].apply(room_clusturing)"
   ]
  },
  {
   "cell_type": "code",
   "execution_count": 172,
   "metadata": {},
   "outputs": [
    {
     "data": {
      "text/plain": [
       "mid demand     1249\n",
       "high demand     627\n",
       "low demand      624\n",
       "Name: room_demand, dtype: int64"
      ]
     },
     "execution_count": 172,
     "metadata": {},
     "output_type": "execute_result"
    }
   ],
   "source": [
    "df[\"room_demand\"].value_counts()"
   ]
  },
  {
   "cell_type": "code",
   "execution_count": 175,
   "metadata": {},
   "outputs": [
    {
     "data": {
      "text/plain": [
       "<AxesSubplot:xlabel='room_demand', ylabel='count'>"
      ]
     },
     "execution_count": 175,
     "metadata": {},
     "output_type": "execute_result"
    },
    {
     "data": {
      "image/png": "[encoded data removed]",
      "text/plain": [
       "<Figure size 432x288 with 1 Axes>"
      ]
     },
     "metadata": {},
     "output_type": "display_data"
    }
   ],
   "source": [
    "sns.countplot(data= df , x=\"room_demand\" )"
   ]
  },
  {
   "cell_type": "markdown",
   "metadata": {},
   "source": [
    "# Save modefied version of the dataset¶"
   ]
  },
  {
   "cell_type": "code",
   "execution_count": 174,
   "metadata": {},
   "outputs": [],
   "source": [
    "df.to_excel(\"Noorhanhamed_ Modified Hotels Dataset.xlsx\")"
   ]
  },
  {
   "cell_type": "code",
   "execution_count": null,
   "metadata": {},
   "outputs": [],
   "source": []
  }
 ],
 "metadata": {
  "kernelspec": {
   "display_name": "Python 3",
   "language": "python",
   "name": "python3"
  },
  "language_info": {
   "codemirror_mode": {
    "name": "ipython",
    "version": 3
   },
   "file_extension": ".py",
   "mimetype": "text/x-python",
   "name": "python",
   "nbconvert_exporter": "python",
   "pygments_lexer": "ipython3",
   "version": "3.7.6"
  }
 },
 "nbformat": 4,
 "nbformat_minor": 5
}
